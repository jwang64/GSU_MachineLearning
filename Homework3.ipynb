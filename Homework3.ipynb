{
 "cells": [
  {
   "cell_type": "code",
   "execution_count": 1,
   "metadata": {},
   "outputs": [],
   "source": [
    "import pandas as pd\n",
    "from sklearn.linear_model import LogisticRegression\n",
    "from sklearn.model_selection import train_test_split\n",
    "from sklearn import metrics\n",
    "from sklearn.metrics import confusion_matrix\n",
    "from sklearn.metrics import accuracy_score\n",
    "from sklearn.discriminant_analysis import LinearDiscriminantAnalysis, QuadraticDiscriminantAnalysis\n",
    "import seaborn as sn\n",
    "import matplotlib.pyplot as plt\n",
    "from sklearn.metrics import classification_report\n",
    "import statsmodels.api as sm\n",
    "import math\n",
    "import numpy as np\n",
    "import statistics"
   ]
  },
  {
   "cell_type": "markdown",
   "metadata": {},
   "source": [
    "## Question 1"
   ]
  },
  {
   "cell_type": "markdown",
   "metadata": {},
   "source": [
    "#### Part A"
   ]
  },
  {
   "cell_type": "code",
   "execution_count": 2,
   "metadata": {},
   "outputs": [],
   "source": [
    "binary = pd.read_csv(\"BinaryData.csv\")"
   ]
  },
  {
   "cell_type": "code",
   "execution_count": 3,
   "metadata": {},
   "outputs": [
    {
     "data": {
      "text/html": [
       "<div>\n",
       "<style scoped>\n",
       "    .dataframe tbody tr th:only-of-type {\n",
       "        vertical-align: middle;\n",
       "    }\n",
       "\n",
       "    .dataframe tbody tr th {\n",
       "        vertical-align: top;\n",
       "    }\n",
       "\n",
       "    .dataframe thead th {\n",
       "        text-align: right;\n",
       "    }\n",
       "</style>\n",
       "<table border=\"1\" class=\"dataframe\">\n",
       "  <thead>\n",
       "    <tr style=\"text-align: right;\">\n",
       "      <th></th>\n",
       "      <th>x</th>\n",
       "      <th>y</th>\n",
       "    </tr>\n",
       "  </thead>\n",
       "  <tbody>\n",
       "    <tr>\n",
       "      <th>0</th>\n",
       "      <td>-0.969221</td>\n",
       "      <td>0</td>\n",
       "    </tr>\n",
       "    <tr>\n",
       "      <th>1</th>\n",
       "      <td>0.095676</td>\n",
       "      <td>0</td>\n",
       "    </tr>\n",
       "    <tr>\n",
       "      <th>2</th>\n",
       "      <td>0.589349</td>\n",
       "      <td>0</td>\n",
       "    </tr>\n",
       "    <tr>\n",
       "      <th>3</th>\n",
       "      <td>1.109713</td>\n",
       "      <td>0</td>\n",
       "    </tr>\n",
       "    <tr>\n",
       "      <th>4</th>\n",
       "      <td>1.530880</td>\n",
       "      <td>0</td>\n",
       "    </tr>\n",
       "  </tbody>\n",
       "</table>\n",
       "</div>"
      ],
      "text/plain": [
       "          x  y\n",
       "0 -0.969221  0\n",
       "1  0.095676  0\n",
       "2  0.589349  0\n",
       "3  1.109713  0\n",
       "4  1.530880  0"
      ]
     },
     "execution_count": 3,
     "metadata": {},
     "output_type": "execute_result"
    }
   ],
   "source": [
    "binary.head()"
   ]
  },
  {
   "cell_type": "code",
   "execution_count": 4,
   "metadata": {},
   "outputs": [],
   "source": [
    "log_regression = LogisticRegression()"
   ]
  },
  {
   "cell_type": "code",
   "execution_count": 5,
   "metadata": {},
   "outputs": [],
   "source": [
    "x = binary['x'].values.reshape(-1, 1)"
   ]
  },
  {
   "cell_type": "code",
   "execution_count": 6,
   "metadata": {},
   "outputs": [],
   "source": [
    "y = binary['y'].values.reshape(-1,1)"
   ]
  },
  {
   "cell_type": "code",
   "execution_count": 7,
   "metadata": {},
   "outputs": [],
   "source": [
    "X_train,X_test,y_train,y_test = train_test_split(x,y,test_size=0.25,random_state=0)"
   ]
  },
  {
   "cell_type": "code",
   "execution_count": 8,
   "metadata": {},
   "outputs": [
    {
     "name": "stderr",
     "output_type": "stream",
     "text": [
      "C:\\Users\\54208\\Anaconda3\\lib\\site-packages\\sklearn\\utils\\validation.py:73: DataConversionWarning: A column-vector y was passed when a 1d array was expected. Please change the shape of y to (n_samples, ), for example using ravel().\n",
      "  return f(**kwargs)\n"
     ]
    },
    {
     "data": {
      "text/plain": [
       "LogisticRegression()"
      ]
     },
     "execution_count": 8,
     "metadata": {},
     "output_type": "execute_result"
    }
   ],
   "source": [
    "log_regression.fit(X_train,y_train)"
   ]
  },
  {
   "cell_type": "code",
   "execution_count": 9,
   "metadata": {},
   "outputs": [],
   "source": [
    "y_pred=log_regression.predict(X_test)"
   ]
  },
  {
   "cell_type": "code",
   "execution_count": 10,
   "metadata": {},
   "outputs": [],
   "source": [
    "y_pred = y_pred.reshape(-1,1)"
   ]
  },
  {
   "cell_type": "code",
   "execution_count": 11,
   "metadata": {},
   "outputs": [
    {
     "name": "stdout",
     "output_type": "stream",
     "text": [
      "              precision    recall  f1-score   support\n",
      "\n",
      "           0       1.00      0.25      0.40         4\n",
      "           1       0.79      1.00      0.88        11\n",
      "\n",
      "    accuracy                           0.80        15\n",
      "   macro avg       0.89      0.62      0.64        15\n",
      "weighted avg       0.84      0.80      0.75        15\n",
      "\n"
     ]
    }
   ],
   "source": [
    "print(classification_report(y_test,y_pred))"
   ]
  },
  {
   "cell_type": "code",
   "execution_count": 12,
   "metadata": {},
   "outputs": [
    {
     "name": "stdout",
     "output_type": "stream",
     "text": [
      "Accuracy:  0.8\n"
     ]
    }
   ],
   "source": [
    "print('Accuracy: ',metrics.accuracy_score(y_test, y_pred))\n",
    "plt.show()"
   ]
  },
  {
   "cell_type": "code",
   "execution_count": 13,
   "metadata": {},
   "outputs": [
    {
     "name": "stdout",
     "output_type": "stream",
     "text": [
      "B1 = [[1.02439124]]\n",
      "B0 = [-0.57587082]\n"
     ]
    }
   ],
   "source": [
    "print('B1 = ' + str(log_regression.coef_))\n",
    "print('B0 = ' + str(log_regression.intercept_))"
   ]
  },
  {
   "cell_type": "markdown",
   "metadata": {},
   "source": [
    "#### Part C"
   ]
  },
  {
   "cell_type": "code",
   "execution_count": 14,
   "metadata": {},
   "outputs": [],
   "source": [
    "cur_x = 1\n",
    "rate = 0.01 # Learning rate\n",
    "precision = 0.000001 \n",
    "previous_step_size = 1 #\n",
    "max_iters = 500 # maximum number of iterations\n",
    "iters = 0 #iteration counter\n",
    "cur_b0 = 0\n",
    "cur_b1 = 0"
   ]
  },
  {
   "cell_type": "code",
   "execution_count": 15,
   "metadata": {},
   "outputs": [],
   "source": [
    "def gradient_function_b0(b0,b1,x,y):\n",
    "    return 1/(1+math.e ** (b0 + b1*x)) - y\n",
    "\n",
    "def gradient_function_b1(b0,b1,x,y):\n",
    "    return x/(1+math.e ** (b0 + b1*x))"
   ]
  },
  {
   "cell_type": "code",
   "execution_count": 16,
   "metadata": {},
   "outputs": [
    {
     "name": "stdout",
     "output_type": "stream",
     "text": [
      "The minimum for b0 is  -3.604836015904874\n",
      "The minimum for b1 is  -4.302418007952443\n"
     ]
    }
   ],
   "source": [
    "while previous_step_size > precision and iters < max_iters:\n",
    "    cur_y = 1/(1 + math.e ** -(cur_b0 + cur_b1 * cur_x))\n",
    "    prev_b0 = cur_b0\n",
    "    prev_b1 = cur_b1\n",
    "    cur_b0 = cur_b0 - (rate * gradient_function_b0(prev_b0,prev_b1,cur_x,cur_y))\n",
    "    cur_b1 = cur_b1 - (rate * gradient_function_b1(prev_b0,prev_b1,cur_x,cur_y))\n",
    "    \n",
    "    iters = iters+1 #iteration count\n",
    "print(\"The minimum for b0 is \", cur_b0)\n",
    "print(\"The minimum for b1 is \", cur_b1)"
   ]
  },
  {
   "cell_type": "markdown",
   "metadata": {},
   "source": [
    "## Question 2"
   ]
  },
  {
   "cell_type": "markdown",
   "metadata": {},
   "source": [
    "#### Part A"
   ]
  },
  {
   "cell_type": "code",
   "execution_count": 17,
   "metadata": {},
   "outputs": [
    {
     "data": {
      "text/html": [
       "<div>\n",
       "<style scoped>\n",
       "    .dataframe tbody tr th:only-of-type {\n",
       "        vertical-align: middle;\n",
       "    }\n",
       "\n",
       "    .dataframe tbody tr th {\n",
       "        vertical-align: top;\n",
       "    }\n",
       "\n",
       "    .dataframe thead th {\n",
       "        text-align: right;\n",
       "    }\n",
       "</style>\n",
       "<table border=\"1\" class=\"dataframe\">\n",
       "  <thead>\n",
       "    <tr style=\"text-align: right;\">\n",
       "      <th></th>\n",
       "      <th>x</th>\n",
       "      <th>y</th>\n",
       "    </tr>\n",
       "  </thead>\n",
       "  <tbody>\n",
       "    <tr>\n",
       "      <th>0</th>\n",
       "      <td>-0.969221</td>\n",
       "      <td>0</td>\n",
       "    </tr>\n",
       "    <tr>\n",
       "      <th>1</th>\n",
       "      <td>0.095676</td>\n",
       "      <td>0</td>\n",
       "    </tr>\n",
       "    <tr>\n",
       "      <th>2</th>\n",
       "      <td>0.589349</td>\n",
       "      <td>0</td>\n",
       "    </tr>\n",
       "    <tr>\n",
       "      <th>3</th>\n",
       "      <td>1.109713</td>\n",
       "      <td>0</td>\n",
       "    </tr>\n",
       "    <tr>\n",
       "      <th>4</th>\n",
       "      <td>1.530880</td>\n",
       "      <td>0</td>\n",
       "    </tr>\n",
       "  </tbody>\n",
       "</table>\n",
       "</div>"
      ],
      "text/plain": [
       "          x  y\n",
       "0 -0.969221  0\n",
       "1  0.095676  0\n",
       "2  0.589349  0\n",
       "3  1.109713  0\n",
       "4  1.530880  0"
      ]
     },
     "execution_count": 17,
     "metadata": {},
     "output_type": "execute_result"
    }
   ],
   "source": [
    "binary.head()"
   ]
  },
  {
   "cell_type": "code",
   "execution_count": 18,
   "metadata": {},
   "outputs": [],
   "source": [
    "binary_y0 = binary[binary['y']==0]\n",
    "binary_y1 = binary[binary['y']==1]"
   ]
  },
  {
   "cell_type": "code",
   "execution_count": 19,
   "metadata": {},
   "outputs": [],
   "source": [
    "total_y = binary['y'].count()\n",
    "pi_0 = binary_y0['y'].count() / total_y\n",
    "pi_1 = binary_y1['y'].count() / total_y"
   ]
  },
  {
   "cell_type": "code",
   "execution_count": 20,
   "metadata": {},
   "outputs": [],
   "source": [
    "average_x0 = binary_y0['x'].mean()\n",
    "average_x1 = binary_y1['x'].mean()"
   ]
  },
  {
   "cell_type": "code",
   "execution_count": 21,
   "metadata": {},
   "outputs": [
    {
     "name": "stderr",
     "output_type": "stream",
     "text": [
      "<ipython-input-21-5ee0e48f288e>:1: SettingWithCopyWarning: \n",
      "A value is trying to be set on a copy of a slice from a DataFrame.\n",
      "Try using .loc[row_indexer,col_indexer] = value instead\n",
      "\n",
      "See the caveats in the documentation: https://pandas.pydata.org/pandas-docs/stable/user_guide/indexing.html#returning-a-view-versus-a-copy\n",
      "  binary_y0['var'] = binary_y0.apply(lambda x: (x['x'] - average_x0) ** 2, axis=1)\n",
      "<ipython-input-21-5ee0e48f288e>:2: SettingWithCopyWarning: \n",
      "A value is trying to be set on a copy of a slice from a DataFrame.\n",
      "Try using .loc[row_indexer,col_indexer] = value instead\n",
      "\n",
      "See the caveats in the documentation: https://pandas.pydata.org/pandas-docs/stable/user_guide/indexing.html#returning-a-view-versus-a-copy\n",
      "  binary_y1['var'] = binary_y1.apply(lambda x: (x['x'] - average_x1) ** 2, axis=1)\n"
     ]
    }
   ],
   "source": [
    "binary_y0['var'] = binary_y0.apply(lambda x: (x['x'] - average_x0) ** 2, axis=1)\n",
    "binary_y1['var'] = binary_y1.apply(lambda x: (x['x'] - average_x1) ** 2, axis=1)"
   ]
  },
  {
   "cell_type": "code",
   "execution_count": 22,
   "metadata": {},
   "outputs": [],
   "source": [
    "var_x0 = binary_y0['var'].sum() / (binary_y0['x'].count() - 1)\n",
    "var_x1 = binary_y1['var'].sum() / (binary_y1['x'].count() - 1)"
   ]
  },
  {
   "cell_type": "code",
   "execution_count": 23,
   "metadata": {},
   "outputs": [
    {
     "name": "stdout",
     "output_type": "stream",
     "text": [
      "pi0 : 0.3333333333333333\n",
      "mu0 : -1.0408340855860843e-17\n",
      "var0: 0.999999999947119\n",
      "\n",
      "\n",
      "pi1 : 0.6666666666666666\n",
      "mu1 : 2.99999999995\n",
      "var1: 3.9999999998285545\n"
     ]
    }
   ],
   "source": [
    "print('pi0 : ' + str(pi_0))\n",
    "print('mu0 : ' + str(average_x0))\n",
    "print('var0: ' + str(var_x0))\n",
    "print('\\n')\n",
    "print('pi1 : ' + str(pi_1))\n",
    "print('mu1 : ' + str(average_x1))\n",
    "print('var1: ' + str(var_x1))\n",
    "\n"
   ]
  },
  {
   "cell_type": "markdown",
   "metadata": {},
   "source": [
    "#### Part B"
   ]
  },
  {
   "cell_type": "code",
   "execution_count": 24,
   "metadata": {},
   "outputs": [],
   "source": [
    "def decision_boundary_y0(x):\n",
    "    return -1/2 * math.log(var_x0) - 1/2 * (-x - average_x0) + math.log(pi_0)"
   ]
  },
  {
   "cell_type": "code",
   "execution_count": 25,
   "metadata": {},
   "outputs": [],
   "source": [
    "def decision_boundary_y1(x):\n",
    "    return -1/2 * math.log(var_x1) - 1/2 * (-x - average_x1) + math.log(pi_1)"
   ]
  },
  {
   "cell_type": "code",
   "execution_count": 26,
   "metadata": {},
   "outputs": [
    {
     "name": "stdout",
     "output_type": "stream",
     "text": [
      "decision_boundary_y0 : 0.40138771135833085\n",
      "decision_boundary_y1 : 1.901387711328321\n"
     ]
    }
   ],
   "source": [
    "print('decision_boundary_y0 : ' + str(decision_boundary_y0(3)))\n",
    "print('decision_boundary_y1 : ' + str(decision_boundary_y1(3)))"
   ]
  },
  {
   "cell_type": "markdown",
   "metadata": {},
   "source": [
    "## Question 3"
   ]
  },
  {
   "cell_type": "code",
   "execution_count": 27,
   "metadata": {},
   "outputs": [],
   "source": [
    "titanic = pd.read_csv('Titanic.csv')"
   ]
  },
  {
   "cell_type": "code",
   "execution_count": 28,
   "metadata": {},
   "outputs": [],
   "source": [
    "titanic = titanic.drop('Name',axis=1)"
   ]
  },
  {
   "cell_type": "markdown",
   "metadata": {},
   "source": [
    "#### Part A"
   ]
  },
  {
   "cell_type": "code",
   "execution_count": 29,
   "metadata": {},
   "outputs": [],
   "source": [
    "titanic['Age'] = titanic['Age'].fillna(titanic['Age'].mean())"
   ]
  },
  {
   "cell_type": "code",
   "execution_count": 30,
   "metadata": {},
   "outputs": [],
   "source": [
    "titanic_y = titanic['Survived']\n",
    "titanic_x = titanic.drop('Survived',axis=1)"
   ]
  },
  {
   "cell_type": "code",
   "execution_count": 31,
   "metadata": {},
   "outputs": [],
   "source": [
    "part_C_titanic_x = pd.get_dummies(titanic_x, columns = ['Pclass','Sex','Embarked'])"
   ]
  },
  {
   "cell_type": "markdown",
   "metadata": {},
   "source": [
    "#### Part B"
   ]
  },
  {
   "cell_type": "code",
   "execution_count": 32,
   "metadata": {},
   "outputs": [],
   "source": [
    "titanic_X_train,titanic_X_test,titanic_y_train,titanic_y_test = train_test_split(part_C_titanic_x,titanic_y,test_size=141)"
   ]
  },
  {
   "cell_type": "markdown",
   "metadata": {},
   "source": [
    "#### Part C"
   ]
  },
  {
   "cell_type": "code",
   "execution_count": 33,
   "metadata": {},
   "outputs": [
    {
     "name": "stdout",
     "output_type": "stream",
     "text": [
      "Optimization terminated successfully.\n",
      "         Current function value: 0.435963\n",
      "         Iterations 6\n"
     ]
    }
   ],
   "source": [
    "titanic_logit_model=sm.Logit(titanic_y_train,titanic_X_train)\n",
    "titanic_result=titanic_logit_model.fit()"
   ]
  },
  {
   "cell_type": "code",
   "execution_count": 34,
   "metadata": {},
   "outputs": [
    {
     "name": "stdout",
     "output_type": "stream",
     "text": [
      "                           Logit Regression Results                           \n",
      "==============================================================================\n",
      "Dep. Variable:               Survived   No. Observations:                  750\n",
      "Model:                          Logit   Df Residuals:                      740\n",
      "Method:                           MLE   Df Model:                            9\n",
      "Date:                Tue, 16 Feb 2021   Pseudo R-squ.:                  0.3454\n",
      "Time:                        17:37:59   Log-Likelihood:                -326.97\n",
      "converged:                       True   LL-Null:                       -499.49\n",
      "Covariance Type:            nonrobust   LLR p-value:                 7.046e-69\n",
      "==============================================================================\n",
      "                 coef    std err          z      P>|z|      [0.025      0.975]\n",
      "------------------------------------------------------------------------------\n",
      "Age           -0.0397      0.009     -4.581      0.000      -0.057      -0.023\n",
      "SibSp         -0.3570      0.123     -2.905      0.004      -0.598      -0.116\n",
      "Parch         -0.1248      0.128     -0.975      0.330      -0.376       0.126\n",
      "Fare           0.0039      0.003      1.353      0.176      -0.002       0.010\n",
      "Pclass_1       1.3677   1.09e+07   1.25e-07      1.000   -2.14e+07    2.14e+07\n",
      "Pclass_2       0.6122   1.09e+07    5.6e-08      1.000   -2.14e+07    2.14e+07\n",
      "Pclass_3      -0.7142   1.09e+07  -6.54e-08      1.000   -2.14e+07    2.14e+07\n",
      "Sex_female     2.0174   1.29e+07   1.57e-07      1.000   -2.52e+07    2.52e+07\n",
      "Sex_male      -0.7517   1.29e+07  -5.85e-08      1.000   -2.52e+07    2.52e+07\n",
      "Embarked_C     0.6388   5.68e+06   1.12e-07      1.000   -1.11e+07    1.11e+07\n",
      "Embarked_Q     0.3693   5.68e+06    6.5e-08      1.000   -1.11e+07    1.11e+07\n",
      "Embarked_S     0.2576   5.68e+06   4.53e-08      1.000   -1.11e+07    1.11e+07\n",
      "==============================================================================\n"
     ]
    }
   ],
   "source": [
    "print(titanic_result.summary())"
   ]
  },
  {
   "cell_type": "code",
   "execution_count": 35,
   "metadata": {},
   "outputs": [],
   "source": [
    "titanic_y_pred = titanic_logit_model.predict(titanic_result.params,titanic_X_test)"
   ]
  },
  {
   "cell_type": "code",
   "execution_count": 36,
   "metadata": {},
   "outputs": [],
   "source": [
    "titanic_y_pred = list(map(round, titanic_y_pred))"
   ]
  },
  {
   "cell_type": "code",
   "execution_count": 37,
   "metadata": {},
   "outputs": [
    {
     "name": "stdout",
     "output_type": "stream",
     "text": [
      "Confusion Matrix : \n",
      " [[76 11]\n",
      " [16 38]]\n",
      "Test accuracy =  0.8085106382978723\n"
     ]
    }
   ],
   "source": [
    "# confusion matrix \n",
    "cm = confusion_matrix(titanic_y_test, titanic_y_pred)  \n",
    "print (\"Confusion Matrix : \\n\", cm)  \n",
    "  \n",
    "# accuracy score of the model \n",
    "print('Test accuracy = ', accuracy_score(titanic_y_test, titanic_y_pred))"
   ]
  },
  {
   "cell_type": "code",
   "execution_count": 38,
   "metadata": {},
   "outputs": [],
   "source": [
    "titanic_lda = LinearDiscriminantAnalysis()\n",
    "titanic_lda_model = titanic_lda.fit(titanic_X_train,titanic_y_train)"
   ]
  },
  {
   "cell_type": "code",
   "execution_count": 39,
   "metadata": {},
   "outputs": [],
   "source": [
    "titanic_lda_y_pred = titanic_lda_model.predict(titanic_X_test)"
   ]
  },
  {
   "cell_type": "code",
   "execution_count": 40,
   "metadata": {},
   "outputs": [
    {
     "name": "stdout",
     "output_type": "stream",
     "text": [
      "[[75 17]\n",
      " [12 37]]\n",
      "              precision    recall  f1-score   support\n",
      "\n",
      "           0      0.815     0.862     0.838        87\n",
      "           1      0.755     0.685     0.718        54\n",
      "\n",
      "    accuracy                          0.794       141\n",
      "   macro avg      0.785     0.774     0.778       141\n",
      "weighted avg      0.792     0.794     0.792       141\n",
      "\n"
     ]
    }
   ],
   "source": [
    "print(confusion_matrix(titanic_lda_y_pred, titanic_y_test))\n",
    "print(classification_report(titanic_y_test, titanic_lda_y_pred, digits=3))"
   ]
  },
  {
   "cell_type": "code",
   "execution_count": 41,
   "metadata": {},
   "outputs": [
    {
     "name": "stderr",
     "output_type": "stream",
     "text": [
      "C:\\Users\\54208\\Anaconda3\\lib\\site-packages\\sklearn\\discriminant_analysis.py:715: UserWarning: Variables are collinear\n",
      "  warnings.warn(\"Variables are collinear\")\n"
     ]
    }
   ],
   "source": [
    "titanic_qda = QuadraticDiscriminantAnalysis()\n",
    "titanic_qda_model = titanic_qda.fit(titanic_X_train,titanic_y_train)\n",
    "titanic_qda_y_pred = titanic_qda_model.predict(titanic_X_test)"
   ]
  },
  {
   "cell_type": "code",
   "execution_count": 42,
   "metadata": {},
   "outputs": [
    {
     "name": "stdout",
     "output_type": "stream",
     "text": [
      "[[67 19]\n",
      " [20 35]]\n",
      "              precision    recall  f1-score   support\n",
      "\n",
      "           0      0.779     0.770     0.775        87\n",
      "           1      0.636     0.648     0.642        54\n",
      "\n",
      "    accuracy                          0.723       141\n",
      "   macro avg      0.708     0.709     0.708       141\n",
      "weighted avg      0.724     0.723     0.724       141\n",
      "\n"
     ]
    }
   ],
   "source": [
    "print(confusion_matrix(titanic_qda_y_pred, titanic_y_test))\n",
    "print(classification_report(titanic_y_test, titanic_qda_y_pred, digits=3))"
   ]
  },
  {
   "cell_type": "markdown",
   "metadata": {},
   "source": [
    "#### Part D"
   ]
  },
  {
   "cell_type": "code",
   "execution_count": 43,
   "metadata": {},
   "outputs": [],
   "source": [
    "part_D_titanic_x = pd.get_dummies(titanic_x, columns = ['Sex','Embarked'])"
   ]
  },
  {
   "cell_type": "code",
   "execution_count": 44,
   "metadata": {},
   "outputs": [],
   "source": [
    "titanic_X_train,titanic_X_test,titanic_y_train,titanic_y_test = train_test_split(part_D_titanic_x,titanic_y,test_size=141)"
   ]
  },
  {
   "cell_type": "code",
   "execution_count": 45,
   "metadata": {},
   "outputs": [
    {
     "name": "stdout",
     "output_type": "stream",
     "text": [
      "Optimization terminated successfully.\n",
      "         Current function value: 0.442404\n",
      "         Iterations 9\n",
      "                           Logit Regression Results                           \n",
      "==============================================================================\n",
      "Dep. Variable:               Survived   No. Observations:                  750\n",
      "Model:                          Logit   Df Residuals:                      741\n",
      "Method:                           MLE   Df Model:                            8\n",
      "Date:                Tue, 16 Feb 2021   Pseudo R-squ.:                  0.3376\n",
      "Time:                        17:37:59   Log-Likelihood:                -331.80\n",
      "converged:                       True   LL-Null:                       -500.88\n",
      "Covariance Type:            nonrobust   LLR p-value:                 3.040e-68\n",
      "==============================================================================\n",
      "                 coef    std err          z      P>|z|      [0.025      0.975]\n",
      "------------------------------------------------------------------------------\n",
      "Pclass        -1.1331      0.154     -7.343      0.000      -1.435      -0.831\n",
      "Age           -0.0425      0.008     -5.007      0.000      -0.059      -0.026\n",
      "SibSp         -0.3267      0.115     -2.843      0.004      -0.552      -0.101\n",
      "Parch         -0.0396      0.128     -0.309      0.757      -0.291       0.211\n",
      "Fare           0.0015      0.002      0.650      0.515      -0.003       0.006\n",
      "Sex_female     3.6838        nan        nan        nan         nan         nan\n",
      "Sex_male       0.9257        nan        nan        nan         nan         nan\n",
      "Embarked_C     1.6555        nan        nan        nan         nan         nan\n",
      "Embarked_Q     1.5436        nan        nan        nan         nan         nan\n",
      "Embarked_S     1.4104        nan        nan        nan         nan         nan\n",
      "==============================================================================\n"
     ]
    },
    {
     "name": "stderr",
     "output_type": "stream",
     "text": [
      "C:\\Users\\54208\\Anaconda3\\lib\\site-packages\\statsmodels\\base\\model.py:1354: RuntimeWarning: invalid value encountered in sqrt\n",
      "  bse_ = np.sqrt(np.diag(self.cov_params()))\n",
      "C:\\Users\\54208\\Anaconda3\\lib\\site-packages\\scipy\\stats\\_distn_infrastructure.py:1932: RuntimeWarning: invalid value encountered in less_equal\n",
      "  cond2 = cond0 & (x <= _a)\n"
     ]
    }
   ],
   "source": [
    "titanic_logit_model=sm.Logit(titanic_y_train,titanic_X_train)\n",
    "titanic_result=titanic_logit_model.fit()\n",
    "print(titanic_result.summary())"
   ]
  },
  {
   "cell_type": "code",
   "execution_count": 46,
   "metadata": {},
   "outputs": [
    {
     "name": "stdout",
     "output_type": "stream",
     "text": [
      "Confusion Matrix : \n",
      " [[78 12]\n",
      " [15 36]]\n",
      "Test accuracy =  0.8085106382978723\n"
     ]
    }
   ],
   "source": [
    "titanic_y_pred = titanic_logit_model.predict(titanic_result.params,titanic_X_test)\n",
    "titanic_y_pred = list(map(round, titanic_y_pred))\n",
    "# confusion matrix \n",
    "cm = confusion_matrix(titanic_y_test, titanic_y_pred)  \n",
    "print (\"Confusion Matrix : \\n\", cm)  \n",
    "  \n",
    "# accuracy score of the model \n",
    "print('Test accuracy = ', accuracy_score(titanic_y_test, titanic_y_pred))"
   ]
  },
  {
   "cell_type": "code",
   "execution_count": 47,
   "metadata": {},
   "outputs": [
    {
     "name": "stdout",
     "output_type": "stream",
     "text": [
      "[[78 15]\n",
      " [12 36]]\n",
      "              precision    recall  f1-score   support\n",
      "\n",
      "           0      0.839     0.867     0.852        90\n",
      "           1      0.750     0.706     0.727        51\n",
      "\n",
      "    accuracy                          0.809       141\n",
      "   macro avg      0.794     0.786     0.790       141\n",
      "weighted avg      0.807     0.809     0.807       141\n",
      "\n"
     ]
    }
   ],
   "source": [
    "titanic_lda = LinearDiscriminantAnalysis()\n",
    "titanic_lda_model = titanic_lda.fit(titanic_X_train,titanic_y_train)\n",
    "titanic_lda_y_pred = titanic_lda_model.predict(titanic_X_test)\n",
    "\n",
    "print(confusion_matrix(titanic_lda_y_pred, titanic_y_test))\n",
    "print(classification_report(titanic_y_test, titanic_lda_y_pred, digits=3))"
   ]
  },
  {
   "cell_type": "code",
   "execution_count": 48,
   "metadata": {},
   "outputs": [
    {
     "name": "stdout",
     "output_type": "stream",
     "text": [
      "[[69 10]\n",
      " [21 41]]\n",
      "              precision    recall  f1-score   support\n",
      "\n",
      "           0      0.873     0.767     0.817        90\n",
      "           1      0.661     0.804     0.726        51\n",
      "\n",
      "    accuracy                          0.780       141\n",
      "   macro avg      0.767     0.785     0.771       141\n",
      "weighted avg      0.797     0.780     0.784       141\n",
      "\n"
     ]
    },
    {
     "name": "stderr",
     "output_type": "stream",
     "text": [
      "C:\\Users\\54208\\Anaconda3\\lib\\site-packages\\sklearn\\discriminant_analysis.py:715: UserWarning: Variables are collinear\n",
      "  warnings.warn(\"Variables are collinear\")\n"
     ]
    }
   ],
   "source": [
    "titanic_qda = QuadraticDiscriminantAnalysis()\n",
    "titanic_qda_model = titanic_qda.fit(titanic_X_train,titanic_y_train)\n",
    "titanic_qda_y_pred = titanic_qda_model.predict(titanic_X_test)\n",
    "\n",
    "print(confusion_matrix(titanic_qda_y_pred, titanic_y_test))\n",
    "print(classification_report(titanic_y_test, titanic_qda_y_pred, digits=3))"
   ]
  },
  {
   "cell_type": "markdown",
   "metadata": {},
   "source": [
    "### Question 4"
   ]
  },
  {
   "cell_type": "markdown",
   "metadata": {},
   "source": [
    "#### Part A"
   ]
  },
  {
   "cell_type": "code",
   "execution_count": 49,
   "metadata": {},
   "outputs": [],
   "source": [
    "question4_x = [8.2344,4.4854, 5.4821, 1.0953, 2.1565, 2.5096, 4.9772,2.4998,4.2628,.6933]"
   ]
  },
  {
   "cell_type": "code",
   "execution_count": 50,
   "metadata": {},
   "outputs": [],
   "source": [
    "q4_mean = (sum(question4_x)) / 10"
   ]
  },
  {
   "cell_type": "code",
   "execution_count": 51,
   "metadata": {},
   "outputs": [],
   "source": [
    "sum_x_variance = 0\n",
    "for x in question4_x:\n",
    "    value = (x-q4_mean) ** 2\n",
    "    sum_x_variance = sum_x_variance + value\n",
    "\n",
    "q4_variance = sum_x_variance/9"
   ]
  },
  {
   "cell_type": "code",
   "execution_count": 52,
   "metadata": {},
   "outputs": [
    {
     "data": {
      "text/plain": [
       "5.258855416"
      ]
     },
     "execution_count": 52,
     "metadata": {},
     "output_type": "execute_result"
    }
   ],
   "source": [
    "q4_variance"
   ]
  },
  {
   "cell_type": "code",
   "execution_count": 53,
   "metadata": {},
   "outputs": [],
   "source": [
    "q4_D = q4_variance/q4_mean"
   ]
  },
  {
   "cell_type": "code",
   "execution_count": 54,
   "metadata": {},
   "outputs": [
    {
     "name": "stdout",
     "output_type": "stream",
     "text": [
      "1.4448833994570889\n"
     ]
    }
   ],
   "source": [
    "print(q4_D)"
   ]
  },
  {
   "cell_type": "markdown",
   "metadata": {},
   "source": [
    "#### Part B"
   ]
  },
  {
   "cell_type": "code",
   "execution_count": 55,
   "metadata": {},
   "outputs": [],
   "source": [
    "np.random.seed(42)\n",
    "randomly_generated_x = np.random.randint(0,10 , size=100)"
   ]
  },
  {
   "cell_type": "code",
   "execution_count": 56,
   "metadata": {},
   "outputs": [
    {
     "name": "stdout",
     "output_type": "stream",
     "text": [
      "random mean: 4.91\n",
      "random var: 0.9034323438974277\n"
     ]
    }
   ],
   "source": [
    "print('random mean: ' + str(randomly_generated_x.mean()))\n",
    "print('random var: ' + str(randomly_generated_x.std()/ (10 ** .5)))"
   ]
  },
  {
   "cell_type": "code",
   "execution_count": 57,
   "metadata": {},
   "outputs": [],
   "source": [
    "mean_list = []\n",
    "var_list = []\n",
    "d_list = []"
   ]
  },
  {
   "cell_type": "code",
   "execution_count": 58,
   "metadata": {},
   "outputs": [],
   "source": [
    "for value in range(10000):\n",
    "    sample = np.random.choice(randomly_generated_x, size=10)\n",
    "    mean_list.append(sample.mean())\n",
    "    variance = sample.std()/ (10 ** .5)\n",
    "    var_list.append(variance)\n",
    "    d_list.append(variance/sample.mean())"
   ]
  },
  {
   "cell_type": "code",
   "execution_count": 59,
   "metadata": {},
   "outputs": [
    {
     "name": "stdout",
     "output_type": "stream",
     "text": [
      "D Standard Deviation: 0.04905431432898977\n"
     ]
    }
   ],
   "source": [
    "print('D Standard Deviation: ' + str(statistics.stdev(d_list)))"
   ]
  },
  {
   "cell_type": "markdown",
   "metadata": {},
   "source": [
    "#### Part C"
   ]
  },
  {
   "cell_type": "code",
   "execution_count": 60,
   "metadata": {},
   "outputs": [],
   "source": [
    "c_mean = 3\n",
    "c_std = math.sqrt(3.24)"
   ]
  },
  {
   "cell_type": "code",
   "execution_count": 61,
   "metadata": {},
   "outputs": [
    {
     "data": {
      "text/plain": [
       "1.8"
      ]
     },
     "execution_count": 61,
     "metadata": {},
     "output_type": "execute_result"
    }
   ],
   "source": [
    "c_std"
   ]
  },
  {
   "cell_type": "code",
   "execution_count": 62,
   "metadata": {},
   "outputs": [],
   "source": [
    "c_normal_randomly_generated = np.random.normal(loc=c_mean, scale=c_std, size=100)"
   ]
  },
  {
   "cell_type": "code",
   "execution_count": 63,
   "metadata": {},
   "outputs": [],
   "source": [
    "mean_list = []\n",
    "var_list = []\n",
    "d_list = []"
   ]
  },
  {
   "cell_type": "code",
   "execution_count": 64,
   "metadata": {},
   "outputs": [],
   "source": [
    "for value in range(10000):\n",
    "    sample = np.random.choice(c_normal_randomly_generated, size=10)\n",
    "    mean_list.append(sample.mean())\n",
    "    variance = sample.std()/ (10 ** .5)\n",
    "    var_list.append(variance)\n",
    "    d_list.append(variance/sample.mean())"
   ]
  },
  {
   "cell_type": "code",
   "execution_count": 65,
   "metadata": {},
   "outputs": [
    {
     "name": "stdout",
     "output_type": "stream",
     "text": [
      "D Standard Deviation: 0.041459127038493235\n"
     ]
    }
   ],
   "source": [
    "print('D Standard Deviation: ' + str(statistics.stdev(d_list)))"
   ]
  },
  {
   "cell_type": "code",
   "execution_count": null,
   "metadata": {},
   "outputs": [],
   "source": []
  }
 ],
 "metadata": {
  "kernelspec": {
   "display_name": "Python 3",
   "language": "python",
   "name": "python3"
  },
  "language_info": {
   "codemirror_mode": {
    "name": "ipython",
    "version": 3
   },
   "file_extension": ".py",
   "mimetype": "text/x-python",
   "name": "python",
   "nbconvert_exporter": "python",
   "pygments_lexer": "ipython3",
   "version": "3.8.3"
  }
 },
 "nbformat": 4,
 "nbformat_minor": 2
}
