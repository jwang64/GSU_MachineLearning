{
 "cells": [
  {
   "cell_type": "code",
   "execution_count": 96,
   "metadata": {},
   "outputs": [],
   "source": [
    "import pandas as pd\n",
    "from sklearn.model_selection import train_test_split\n",
    "from sklearn import linear_model\n",
    "from sklearn.metrics import mean_squared_error\n",
    "from sklearn.decomposition import PCA\n",
    "from sklearn import model_selection\n",
    "import numpy as np\n",
    "import matplotlib.pyplot as plt\n",
    "from sklearn.preprocessing import scale \n",
    "from sklearn.preprocessing import PolynomialFeatures\n",
    "from scipy.interpolate import LSQUnivariateSpline\n",
    "import statsmodels.api as sm\n",
    "from statsmodels.gam.api import GLMGam, BSplines"
   ]
  },
  {
   "cell_type": "markdown",
   "metadata": {},
   "source": [
    "### Q1"
   ]
  },
  {
   "cell_type": "markdown",
   "metadata": {},
   "source": [
    "#### A"
   ]
  },
  {
   "cell_type": "code",
   "execution_count": 2,
   "metadata": {},
   "outputs": [],
   "source": [
    "hitters = pd.read_csv('MyHitters.csv')"
   ]
  },
  {
   "cell_type": "code",
   "execution_count": 3,
   "metadata": {},
   "outputs": [
    {
     "data": {
      "text/html": [
       "<div>\n",
       "<style scoped>\n",
       "    .dataframe tbody tr th:only-of-type {\n",
       "        vertical-align: middle;\n",
       "    }\n",
       "\n",
       "    .dataframe tbody tr th {\n",
       "        vertical-align: top;\n",
       "    }\n",
       "\n",
       "    .dataframe thead th {\n",
       "        text-align: right;\n",
       "    }\n",
       "</style>\n",
       "<table border=\"1\" class=\"dataframe\">\n",
       "  <thead>\n",
       "    <tr style=\"text-align: right;\">\n",
       "      <th></th>\n",
       "      <th>AtBat</th>\n",
       "      <th>Hits</th>\n",
       "      <th>HmRun</th>\n",
       "      <th>Runs</th>\n",
       "      <th>RBI</th>\n",
       "      <th>Walks</th>\n",
       "      <th>Years</th>\n",
       "      <th>CAtBat</th>\n",
       "      <th>CHits</th>\n",
       "      <th>CHmRun</th>\n",
       "      <th>CRuns</th>\n",
       "      <th>CRBI</th>\n",
       "      <th>CWalks</th>\n",
       "      <th>League</th>\n",
       "      <th>Division</th>\n",
       "      <th>PutOuts</th>\n",
       "      <th>Assists</th>\n",
       "      <th>Errors</th>\n",
       "      <th>Salary</th>\n",
       "      <th>NewLeague</th>\n",
       "    </tr>\n",
       "  </thead>\n",
       "  <tbody>\n",
       "    <tr>\n",
       "      <th>0</th>\n",
       "      <td>475</td>\n",
       "      <td>123</td>\n",
       "      <td>27</td>\n",
       "      <td>76</td>\n",
       "      <td>93</td>\n",
       "      <td>72</td>\n",
       "      <td>4</td>\n",
       "      <td>1810</td>\n",
       "      <td>471</td>\n",
       "      <td>108</td>\n",
       "      <td>292</td>\n",
       "      <td>343</td>\n",
       "      <td>267</td>\n",
       "      <td>1</td>\n",
       "      <td>0</td>\n",
       "      <td>226</td>\n",
       "      <td>10</td>\n",
       "      <td>6</td>\n",
       "      <td>1220.000</td>\n",
       "      <td>1</td>\n",
       "    </tr>\n",
       "    <tr>\n",
       "      <th>1</th>\n",
       "      <td>584</td>\n",
       "      <td>158</td>\n",
       "      <td>15</td>\n",
       "      <td>70</td>\n",
       "      <td>84</td>\n",
       "      <td>42</td>\n",
       "      <td>5</td>\n",
       "      <td>2358</td>\n",
       "      <td>636</td>\n",
       "      <td>58</td>\n",
       "      <td>265</td>\n",
       "      <td>316</td>\n",
       "      <td>134</td>\n",
       "      <td>1</td>\n",
       "      <td>0</td>\n",
       "      <td>331</td>\n",
       "      <td>20</td>\n",
       "      <td>4</td>\n",
       "      <td>662.500</td>\n",
       "      <td>1</td>\n",
       "    </tr>\n",
       "    <tr>\n",
       "      <th>2</th>\n",
       "      <td>484</td>\n",
       "      <td>127</td>\n",
       "      <td>20</td>\n",
       "      <td>66</td>\n",
       "      <td>65</td>\n",
       "      <td>67</td>\n",
       "      <td>7</td>\n",
       "      <td>3006</td>\n",
       "      <td>844</td>\n",
       "      <td>116</td>\n",
       "      <td>436</td>\n",
       "      <td>458</td>\n",
       "      <td>377</td>\n",
       "      <td>1</td>\n",
       "      <td>0</td>\n",
       "      <td>1231</td>\n",
       "      <td>80</td>\n",
       "      <td>7</td>\n",
       "      <td>1183.333</td>\n",
       "      <td>1</td>\n",
       "    </tr>\n",
       "    <tr>\n",
       "      <th>3</th>\n",
       "      <td>642</td>\n",
       "      <td>211</td>\n",
       "      <td>14</td>\n",
       "      <td>107</td>\n",
       "      <td>59</td>\n",
       "      <td>52</td>\n",
       "      <td>5</td>\n",
       "      <td>2364</td>\n",
       "      <td>770</td>\n",
       "      <td>27</td>\n",
       "      <td>352</td>\n",
       "      <td>230</td>\n",
       "      <td>193</td>\n",
       "      <td>1</td>\n",
       "      <td>1</td>\n",
       "      <td>337</td>\n",
       "      <td>19</td>\n",
       "      <td>4</td>\n",
       "      <td>740.000</td>\n",
       "      <td>1</td>\n",
       "    </tr>\n",
       "    <tr>\n",
       "      <th>4</th>\n",
       "      <td>311</td>\n",
       "      <td>81</td>\n",
       "      <td>3</td>\n",
       "      <td>42</td>\n",
       "      <td>30</td>\n",
       "      <td>26</td>\n",
       "      <td>17</td>\n",
       "      <td>8247</td>\n",
       "      <td>2198</td>\n",
       "      <td>100</td>\n",
       "      <td>950</td>\n",
       "      <td>909</td>\n",
       "      <td>690</td>\n",
       "      <td>1</td>\n",
       "      <td>1</td>\n",
       "      <td>153</td>\n",
       "      <td>223</td>\n",
       "      <td>10</td>\n",
       "      <td>320.000</td>\n",
       "      <td>1</td>\n",
       "    </tr>\n",
       "  </tbody>\n",
       "</table>\n",
       "</div>"
      ],
      "text/plain": [
       "   AtBat  Hits  HmRun  Runs  RBI  Walks  Years  CAtBat  CHits  CHmRun  CRuns  \\\n",
       "0    475   123     27    76   93     72      4    1810    471     108    292   \n",
       "1    584   158     15    70   84     42      5    2358    636      58    265   \n",
       "2    484   127     20    66   65     67      7    3006    844     116    436   \n",
       "3    642   211     14   107   59     52      5    2364    770      27    352   \n",
       "4    311    81      3    42   30     26     17    8247   2198     100    950   \n",
       "\n",
       "   CRBI  CWalks  League  Division  PutOuts  Assists  Errors    Salary  \\\n",
       "0   343     267       1         0      226       10       6  1220.000   \n",
       "1   316     134       1         0      331       20       4   662.500   \n",
       "2   458     377       1         0     1231       80       7  1183.333   \n",
       "3   230     193       1         1      337       19       4   740.000   \n",
       "4   909     690       1         1      153      223      10   320.000   \n",
       "\n",
       "   NewLeague  \n",
       "0          1  \n",
       "1          1  \n",
       "2          1  \n",
       "3          1  \n",
       "4          1  "
      ]
     },
     "execution_count": 3,
     "metadata": {},
     "output_type": "execute_result"
    }
   ],
   "source": [
    "hitters.head()"
   ]
  },
  {
   "cell_type": "code",
   "execution_count": 4,
   "metadata": {},
   "outputs": [],
   "source": [
    "y = hitters['Salary']\n",
    "X = hitters.drop(columns=['Salary'])"
   ]
  },
  {
   "cell_type": "code",
   "execution_count": 26,
   "metadata": {},
   "outputs": [],
   "source": [
    "X_train, X_test, y_train, y_test = train_test_split(X, y, test_size=132)"
   ]
  },
  {
   "cell_type": "code",
   "execution_count": 27,
   "metadata": {},
   "outputs": [
    {
     "data": {
      "text/plain": [
       "LinearRegression()"
      ]
     },
     "execution_count": 27,
     "metadata": {},
     "output_type": "execute_result"
    }
   ],
   "source": [
    "regr = linear_model.LinearRegression()\n",
    "regr.fit(X_train, y_train)"
   ]
  },
  {
   "cell_type": "code",
   "execution_count": 28,
   "metadata": {},
   "outputs": [],
   "source": [
    "y_pred = regr.predict(X_test)\n",
    "mse_value = mean_squared_error(y_test,y_pred)"
   ]
  },
  {
   "cell_type": "code",
   "execution_count": 29,
   "metadata": {},
   "outputs": [
    {
     "name": "stdout",
     "output_type": "stream",
     "text": [
      "122731.08941364333\n"
     ]
    }
   ],
   "source": [
    "print(mse_value)"
   ]
  },
  {
   "cell_type": "markdown",
   "metadata": {},
   "source": [
    "#### B"
   ]
  },
  {
   "cell_type": "code",
   "execution_count": 37,
   "metadata": {},
   "outputs": [],
   "source": [
    "pca = PCA()\n",
    "X_reduced_columns = pca.fit_transform(X)"
   ]
  },
  {
   "cell_type": "code",
   "execution_count": 36,
   "metadata": {},
   "outputs": [
    {
     "data": {
      "image/png": "[encoded data removed]",
      "text/plain": [
       "<Figure size 432x288 with 1 Axes>"
      ]
     },
     "metadata": {
      "needs_background": "light"
     },
     "output_type": "display_data"
    }
   ],
   "source": [
    "X_columns_len = len(X_reduced_columns)\n",
    "kf = model_selection.KFold( n_splits=5, shuffle=True, random_state=1)\n",
    "\n",
    "regr = linear_model.LinearRegression()\n",
    "mse = []\n",
    "\n",
    "score = -1*model_selection.cross_val_score(regr, np.ones((X_columns_len,1)), y.ravel(), cv=kf, scoring='neg_mean_squared_error').mean()    \n",
    "mse.append(score)\n",
    "\n",
    "for i in np.arange(1, 20):\n",
    "    score = -1*model_selection.cross_val_score(regr, X_reduced_columns[:,:i], y.ravel(), cv=kf, scoring='neg_mean_squared_error').mean()\n",
    "    mse.append(score)\n",
    "    \n",
    "# Plot results    \n",
    "plt.plot(mse, '-v')\n",
    "plt.xlabel('Number of principal components in regression')\n",
    "plt.ylabel('MSE')\n",
    "plt.title('Salary')\n",
    "plt.xlim(xmin=-1);"
   ]
  },
  {
   "cell_type": "markdown",
   "metadata": {},
   "source": [
    "#### C"
   ]
  },
  {
   "cell_type": "code",
   "execution_count": 39,
   "metadata": {},
   "outputs": [],
   "source": [
    "X = scale(X)"
   ]
  },
  {
   "cell_type": "code",
   "execution_count": 40,
   "metadata": {},
   "outputs": [],
   "source": [
    "u, s, vh = np.linalg.svd(X, full_matrices=True)"
   ]
  },
  {
   "cell_type": "code",
   "execution_count": 41,
   "metadata": {},
   "outputs": [
    {
     "data": {
      "text/plain": [
       "((263, 263), (19,), (19, 19))"
      ]
     },
     "execution_count": 41,
     "metadata": {},
     "output_type": "execute_result"
    }
   ],
   "source": [
    "u.shape, s.shape, vh.shape"
   ]
  },
  {
   "cell_type": "code",
   "execution_count": 42,
   "metadata": {},
   "outputs": [],
   "source": [
    "C = vh * s"
   ]
  },
  {
   "cell_type": "markdown",
   "metadata": {},
   "source": [
    "### Q2"
   ]
  },
  {
   "cell_type": "markdown",
   "metadata": {},
   "source": [
    "#### A"
   ]
  },
  {
   "cell_type": "code",
   "execution_count": 47,
   "metadata": {},
   "outputs": [],
   "source": [
    "auto = pd.read_csv('auto.csv')"
   ]
  },
  {
   "cell_type": "code",
   "execution_count": 65,
   "metadata": {},
   "outputs": [],
   "source": [
    "X = np.array(auto['mpg'].values).reshape((-1,1))\n",
    "y = np.array(auto['horsepower'].values).reshape((-1,1))"
   ]
  },
  {
   "cell_type": "code",
   "execution_count": 66,
   "metadata": {},
   "outputs": [
    {
     "data": {
      "text/plain": [
       "LinearRegression()"
      ]
     },
     "execution_count": 66,
     "metadata": {},
     "output_type": "execute_result"
    }
   ],
   "source": [
    "poly_regr = PolynomialFeatures(degree = 6)\n",
    "X_poly_regr = poly_regr.fit_transform(X)\n",
    "\n",
    "lin_reg = linear_model.LinearRegression()\n",
    "lin_reg.fit(X_poly_regr,y)"
   ]
  },
  {
   "cell_type": "code",
   "execution_count": 67,
   "metadata": {},
   "outputs": [
    {
     "data": {
      "image/png": "[encoded data removed]",
      "text/plain": [
       "<Figure size 432x288 with 1 Axes>"
      ]
     },
     "metadata": {
      "needs_background": "light"
     },
     "output_type": "display_data"
    }
   ],
   "source": [
    "# Visualising the Linear Regression \n",
    "plt.title(\"MPG Vs Horsepower\")\n",
    "plt.xlabel('mpg')\n",
    "plt.ylabel('horsepower')\n",
    "plt.scatter(X, y, color = \"blue\")\n",
    "plt.plot(X,lin_reg.predict(X_poly_regr),color = \"red\")\n",
    "plt.show()"
   ]
  },
  {
   "cell_type": "markdown",
   "metadata": {},
   "source": [
    "#### B"
   ]
  },
  {
   "cell_type": "code",
   "execution_count": 78,
   "metadata": {},
   "outputs": [],
   "source": [
    "auto=auto[['horsepower','mpg']].sort_values('horsepower')\n",
    "X=np.array(auto['horsepower'])\n",
    "y=np.array(auto['mpg'])"
   ]
  },
  {
   "cell_type": "code",
   "execution_count": 85,
   "metadata": {},
   "outputs": [],
   "source": [
    "knots=[55,75,105,155]\n",
    "\n",
    "spline = LSQUnivariateSpline(X,y,knots)"
   ]
  },
  {
   "cell_type": "code",
   "execution_count": 86,
   "metadata": {},
   "outputs": [
    {
     "data": {
      "image/png": "[encoded data removed]",
      "text/plain": [
       "<Figure size 432x288 with 1 Axes>"
      ]
     },
     "metadata": {
      "needs_background": "light"
     },
     "output_type": "display_data"
    }
   ],
   "source": [
    "#Plot the spline\n",
    "xs = np.linspace(40,230,1000)\n",
    "ys = spline(xs)\n",
    "plt.scatter(X, y)\n",
    "plt.plot(xs, ys)\n",
    "plt.savefig('fig2.png', bbox_inches='tight')"
   ]
  },
  {
   "cell_type": "markdown",
   "metadata": {},
   "source": [
    "#### C"
   ]
  },
  {
   "cell_type": "code",
   "execution_count": 87,
   "metadata": {},
   "outputs": [],
   "source": [
    "auto = pd.read_csv('auto.csv')"
   ]
  },
  {
   "cell_type": "code",
   "execution_count": 88,
   "metadata": {},
   "outputs": [],
   "source": [
    "X = auto[['horsepower','acceleration','year']]\n",
    "y = auto['mpg']"
   ]
  },
  {
   "cell_type": "code",
   "execution_count": 93,
   "metadata": {},
   "outputs": [],
   "source": [
    "X_train = X.loc[:349]\n",
    "y_train = y.loc[:349]\n",
    "X_test = X.loc[350:]\n",
    "y_test = y.loc[350:]"
   ]
  },
  {
   "cell_type": "code",
   "execution_count": 94,
   "metadata": {},
   "outputs": [
    {
     "data": {
      "text/plain": [
       "LinearRegression()"
      ]
     },
     "execution_count": 94,
     "metadata": {},
     "output_type": "execute_result"
    }
   ],
   "source": [
    "regr = linear_model.LinearRegression()\n",
    "regr.fit(X_train,y_train)"
   ]
  },
  {
   "cell_type": "code",
   "execution_count": 95,
   "metadata": {},
   "outputs": [
    {
     "name": "stdout",
     "output_type": "stream",
     "text": [
      "12.059045079717883\n"
     ]
    }
   ],
   "source": [
    "y_pred = regr.predict(X_test)\n",
    "mse_value = mean_squared_error(y_test,y_pred)\n",
    "print(mse_value)"
   ]
  },
  {
   "cell_type": "code",
   "execution_count": 98,
   "metadata": {},
   "outputs": [],
   "source": [
    "bs = BSplines(X, df=[10, 10,10], degree=[6, 6,6])"
   ]
  },
  {
   "cell_type": "code",
   "execution_count": 101,
   "metadata": {},
   "outputs": [],
   "source": [
    "gam_bs = GLMGam.from_formula('mpg ~ horsepower + acceleration + year',data=auto,smoother=bs)"
   ]
  },
  {
   "cell_type": "code",
   "execution_count": 106,
   "metadata": {},
   "outputs": [
    {
     "data": {
      "text/html": [
       "<table class=\"simpletable\">\n",
       "<caption>Generalized Linear Model Regression Results</caption>\n",
       "<tr>\n",
       "  <th>Dep. Variable:</th>          <td>mpg</td>       <th>  No. Observations:  </th>  <td>   392</td> \n",
       "</tr>\n",
       "<tr>\n",
       "  <th>Model:</th>                <td>GLMGam</td>      <th>  Df Residuals:      </th> <td>  364.00</td>\n",
       "</tr>\n",
       "<tr>\n",
       "  <th>Model Family:</th>        <td>Gaussian</td>     <th>  Df Model:          </th> <td>   27.00</td>\n",
       "</tr>\n",
       "<tr>\n",
       "  <th>Link Function:</th>       <td>identity</td>     <th>  Scale:             </th> <td>  9.6313</td>\n",
       "</tr>\n",
       "<tr>\n",
       "  <th>Method:</th>                <td>PIRLS</td>      <th>  Log-Likelihood:    </th> <td> -985.64</td>\n",
       "</tr>\n",
       "<tr>\n",
       "  <th>Date:</th>            <td>Thu, 25 Mar 2021</td> <th>  Deviance:          </th> <td>  3505.8</td>\n",
       "</tr>\n",
       "<tr>\n",
       "  <th>Time:</th>                <td>11:06:41</td>     <th>  Pearson chi2:      </th> <td>3.51e+03</td>\n",
       "</tr>\n",
       "<tr>\n",
       "  <th>No. Iterations:</th>          <td>3</td>        <th>                     </th>     <td> </td>   \n",
       "</tr>\n",
       "<tr>\n",
       "  <th>Covariance Type:</th>     <td>nonrobust</td>    <th>                     </th>     <td> </td>   \n",
       "</tr>\n",
       "</table>\n",
       "<table class=\"simpletable\">\n",
       "<tr>\n",
       "         <td></td>            <th>coef</th>     <th>std err</th>      <th>z</th>      <th>P>|z|</th>  <th>[0.025</th>    <th>0.975]</th>  \n",
       "</tr>\n",
       "<tr>\n",
       "  <th>Intercept</th>       <td>    2.5848</td> <td>    0.799</td> <td>    3.236</td> <td> 0.001</td> <td>    1.019</td> <td>    4.150</td>\n",
       "</tr>\n",
       "<tr>\n",
       "  <th>horsepower</th>      <td>   -0.1704</td> <td>    0.016</td> <td>  -10.412</td> <td> 0.000</td> <td>   -0.202</td> <td>   -0.138</td>\n",
       "</tr>\n",
       "<tr>\n",
       "  <th>acceleration</th>    <td>   -0.4113</td> <td>    0.244</td> <td>   -1.685</td> <td> 0.092</td> <td>   -0.890</td> <td>    0.067</td>\n",
       "</tr>\n",
       "<tr>\n",
       "  <th>year</th>            <td>    0.6671</td> <td>    0.074</td> <td>    9.023</td> <td> 0.000</td> <td>    0.522</td> <td>    0.812</td>\n",
       "</tr>\n",
       "<tr>\n",
       "  <th>horsepower_s0</th>   <td>    2.4073</td> <td>    4.626</td> <td>    0.520</td> <td> 0.603</td> <td>   -6.659</td> <td>   11.474</td>\n",
       "</tr>\n",
       "<tr>\n",
       "  <th>horsepower_s1</th>   <td>    0.6847</td> <td>    2.941</td> <td>    0.233</td> <td> 0.816</td> <td>   -5.080</td> <td>    6.449</td>\n",
       "</tr>\n",
       "<tr>\n",
       "  <th>horsepower_s2</th>   <td>   -3.2585</td> <td>    3.688</td> <td>   -0.884</td> <td> 0.377</td> <td>  -10.486</td> <td>    3.969</td>\n",
       "</tr>\n",
       "<tr>\n",
       "  <th>horsepower_s3</th>   <td>   -9.5168</td> <td>    6.344</td> <td>   -1.500</td> <td> 0.134</td> <td>  -21.951</td> <td>    2.917</td>\n",
       "</tr>\n",
       "<tr>\n",
       "  <th>horsepower_s4</th>   <td>   -0.4597</td> <td>   10.172</td> <td>   -0.045</td> <td> 0.964</td> <td>  -20.395</td> <td>   19.476</td>\n",
       "</tr>\n",
       "<tr>\n",
       "  <th>horsepower_s5</th>   <td>  -13.9281</td> <td>   10.400</td> <td>   -1.339</td> <td> 0.180</td> <td>  -34.311</td> <td>    6.455</td>\n",
       "</tr>\n",
       "<tr>\n",
       "  <th>horsepower_s6</th>   <td>    9.9131</td> <td>    9.419</td> <td>    1.052</td> <td> 0.293</td> <td>   -8.548</td> <td>   28.374</td>\n",
       "</tr>\n",
       "<tr>\n",
       "  <th>horsepower_s7</th>   <td>   -4.4733</td> <td>    6.296</td> <td>   -0.711</td> <td> 0.477</td> <td>  -16.812</td> <td>    7.866</td>\n",
       "</tr>\n",
       "<tr>\n",
       "  <th>horsepower_s8</th>   <td>    8.0944</td> <td>    2.561</td> <td>    3.160</td> <td> 0.002</td> <td>    3.074</td> <td>   13.114</td>\n",
       "</tr>\n",
       "<tr>\n",
       "  <th>acceleration_s0</th> <td>    3.6586</td> <td>    8.213</td> <td>    0.445</td> <td> 0.656</td> <td>  -12.439</td> <td>   19.756</td>\n",
       "</tr>\n",
       "<tr>\n",
       "  <th>acceleration_s1</th> <td>    2.3324</td> <td>    6.042</td> <td>    0.386</td> <td> 0.699</td> <td>   -9.510</td> <td>   14.175</td>\n",
       "</tr>\n",
       "<tr>\n",
       "  <th>acceleration_s2</th> <td>    0.4940</td> <td>    5.854</td> <td>    0.084</td> <td> 0.933</td> <td>  -10.979</td> <td>   11.967</td>\n",
       "</tr>\n",
       "<tr>\n",
       "  <th>acceleration_s3</th> <td>    5.6206</td> <td>    6.980</td> <td>    0.805</td> <td> 0.421</td> <td>   -8.059</td> <td>   19.300</td>\n",
       "</tr>\n",
       "<tr>\n",
       "  <th>acceleration_s4</th> <td>   -6.5430</td> <td>    8.176</td> <td>   -0.800</td> <td> 0.424</td> <td>  -22.568</td> <td>    9.482</td>\n",
       "</tr>\n",
       "<tr>\n",
       "  <th>acceleration_s5</th> <td>    5.5873</td> <td>    6.852</td> <td>    0.815</td> <td> 0.415</td> <td>   -7.843</td> <td>   19.017</td>\n",
       "</tr>\n",
       "<tr>\n",
       "  <th>acceleration_s6</th> <td>   -9.6958</td> <td>    9.140</td> <td>   -1.061</td> <td> 0.289</td> <td>  -27.610</td> <td>    8.218</td>\n",
       "</tr>\n",
       "<tr>\n",
       "  <th>acceleration_s7</th> <td>    1.9720</td> <td>    7.742</td> <td>    0.255</td> <td> 0.799</td> <td>  -13.203</td> <td>   17.147</td>\n",
       "</tr>\n",
       "<tr>\n",
       "  <th>acceleration_s8</th> <td>    1.7706</td> <td>    2.648</td> <td>    0.669</td> <td> 0.504</td> <td>   -3.420</td> <td>    6.961</td>\n",
       "</tr>\n",
       "<tr>\n",
       "  <th>year_s0</th>         <td>    1.0014</td> <td>    3.358</td> <td>    0.298</td> <td> 0.766</td> <td>   -5.581</td> <td>    7.584</td>\n",
       "</tr>\n",
       "<tr>\n",
       "  <th>year_s1</th>         <td>   -6.1793</td> <td>    5.141</td> <td>   -1.202</td> <td> 0.229</td> <td>  -16.256</td> <td>    3.897</td>\n",
       "</tr>\n",
       "<tr>\n",
       "  <th>year_s2</th>         <td>    4.8637</td> <td>    7.118</td> <td>    0.683</td> <td> 0.494</td> <td>   -9.088</td> <td>   18.815</td>\n",
       "</tr>\n",
       "<tr>\n",
       "  <th>year_s3</th>         <td>  -20.8747</td> <td>   10.200</td> <td>   -2.047</td> <td> 0.041</td> <td>  -40.866</td> <td>   -0.883</td>\n",
       "</tr>\n",
       "<tr>\n",
       "  <th>year_s4</th>         <td>   16.7525</td> <td>   10.338</td> <td>    1.621</td> <td> 0.105</td> <td>   -3.509</td> <td>   37.014</td>\n",
       "</tr>\n",
       "<tr>\n",
       "  <th>year_s5</th>         <td>  -21.5558</td> <td>    7.309</td> <td>   -2.949</td> <td> 0.003</td> <td>  -35.882</td> <td>   -7.229</td>\n",
       "</tr>\n",
       "<tr>\n",
       "  <th>year_s6</th>         <td>   17.9042</td> <td>    5.293</td> <td>    3.383</td> <td> 0.001</td> <td>    7.530</td> <td>   28.278</td>\n",
       "</tr>\n",
       "<tr>\n",
       "  <th>year_s7</th>         <td>  -15.3296</td> <td>    3.326</td> <td>   -4.609</td> <td> 0.000</td> <td>  -21.848</td> <td>   -8.811</td>\n",
       "</tr>\n",
       "<tr>\n",
       "  <th>year_s8</th>         <td>   -1.3905</td> <td>    1.185</td> <td>   -1.174</td> <td> 0.241</td> <td>   -3.713</td> <td>    0.932</td>\n",
       "</tr>\n",
       "</table>"
      ],
      "text/plain": [
       "<class 'statsmodels.iolib.summary.Summary'>\n",
       "\"\"\"\n",
       "                 Generalized Linear Model Regression Results                  \n",
       "==============================================================================\n",
       "Dep. Variable:                    mpg   No. Observations:                  392\n",
       "Model:                         GLMGam   Df Residuals:                   364.00\n",
       "Model Family:                Gaussian   Df Model:                        27.00\n",
       "Link Function:               identity   Scale:                          9.6313\n",
       "Method:                         PIRLS   Log-Likelihood:                -985.64\n",
       "Date:                Thu, 25 Mar 2021   Deviance:                       3505.8\n",
       "Time:                        11:06:41   Pearson chi2:                 3.51e+03\n",
       "No. Iterations:                     3                                         \n",
       "Covariance Type:            nonrobust                                         \n",
       "===================================================================================\n",
       "                      coef    std err          z      P>|z|      [0.025      0.975]\n",
       "-----------------------------------------------------------------------------------\n",
       "Intercept           2.5848      0.799      3.236      0.001       1.019       4.150\n",
       "horsepower         -0.1704      0.016    -10.412      0.000      -0.202      -0.138\n",
       "acceleration       -0.4113      0.244     -1.685      0.092      -0.890       0.067\n",
       "year                0.6671      0.074      9.023      0.000       0.522       0.812\n",
       "horsepower_s0       2.4073      4.626      0.520      0.603      -6.659      11.474\n",
       "horsepower_s1       0.6847      2.941      0.233      0.816      -5.080       6.449\n",
       "horsepower_s2      -3.2585      3.688     -0.884      0.377     -10.486       3.969\n",
       "horsepower_s3      -9.5168      6.344     -1.500      0.134     -21.951       2.917\n",
       "horsepower_s4      -0.4597     10.172     -0.045      0.964     -20.395      19.476\n",
       "horsepower_s5     -13.9281     10.400     -1.339      0.180     -34.311       6.455\n",
       "horsepower_s6       9.9131      9.419      1.052      0.293      -8.548      28.374\n",
       "horsepower_s7      -4.4733      6.296     -0.711      0.477     -16.812       7.866\n",
       "horsepower_s8       8.0944      2.561      3.160      0.002       3.074      13.114\n",
       "acceleration_s0     3.6586      8.213      0.445      0.656     -12.439      19.756\n",
       "acceleration_s1     2.3324      6.042      0.386      0.699      -9.510      14.175\n",
       "acceleration_s2     0.4940      5.854      0.084      0.933     -10.979      11.967\n",
       "acceleration_s3     5.6206      6.980      0.805      0.421      -8.059      19.300\n",
       "acceleration_s4    -6.5430      8.176     -0.800      0.424     -22.568       9.482\n",
       "acceleration_s5     5.5873      6.852      0.815      0.415      -7.843      19.017\n",
       "acceleration_s6    -9.6958      9.140     -1.061      0.289     -27.610       8.218\n",
       "acceleration_s7     1.9720      7.742      0.255      0.799     -13.203      17.147\n",
       "acceleration_s8     1.7706      2.648      0.669      0.504      -3.420       6.961\n",
       "year_s0             1.0014      3.358      0.298      0.766      -5.581       7.584\n",
       "year_s1            -6.1793      5.141     -1.202      0.229     -16.256       3.897\n",
       "year_s2             4.8637      7.118      0.683      0.494      -9.088      18.815\n",
       "year_s3           -20.8747     10.200     -2.047      0.041     -40.866      -0.883\n",
       "year_s4            16.7525     10.338      1.621      0.105      -3.509      37.014\n",
       "year_s5           -21.5558      7.309     -2.949      0.003     -35.882      -7.229\n",
       "year_s6            17.9042      5.293      3.383      0.001       7.530      28.278\n",
       "year_s7           -15.3296      3.326     -4.609      0.000     -21.848      -8.811\n",
       "year_s8            -1.3905      1.185     -1.174      0.241      -3.713       0.932\n",
       "===================================================================================\n",
       "\"\"\""
      ]
     },
     "execution_count": 106,
     "metadata": {},
     "output_type": "execute_result"
    }
   ],
   "source": [
    "res_bs = gam_bs.fit()\n",
    "res_bs.summary()"
   ]
  },
  {
   "cell_type": "code",
   "execution_count": 112,
   "metadata": {},
   "outputs": [
    {
     "name": "stdout",
     "output_type": "stream",
     "text": [
      "8.943354760279044\n"
     ]
    }
   ],
   "source": [
    "y_pred = gam_bs.predict(res_bs.params)\n",
    "mse_value = mean_squared_error(y,y_pred)\n",
    "print(mse_value)"
   ]
  },
  {
   "cell_type": "code",
   "execution_count": null,
   "metadata": {},
   "outputs": [],
   "source": []
  }
 ],
 "metadata": {
  "kernelspec": {
   "display_name": "Python 3",
   "language": "python",
   "name": "python3"
  },
  "language_info": {
   "codemirror_mode": {
    "name": "ipython",
    "version": 3
   },
   "file_extension": ".py",
   "mimetype": "text/x-python",
   "name": "python",
   "nbconvert_exporter": "python",
   "pygments_lexer": "ipython3",
   "version": "3.8.3"
  }
 },
 "nbformat": 4,
 "nbformat_minor": 4
}
