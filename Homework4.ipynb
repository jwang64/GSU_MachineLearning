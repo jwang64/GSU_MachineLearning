{
 "cells": [
  {
   "cell_type": "code",
   "execution_count": 142,
   "metadata": {},
   "outputs": [],
   "source": [
    "import pandas as pd\n",
    "from sklearn import linear_model\n",
    "import numpy as np\n",
    "from scipy.stats import variation\n",
    "from itertools import chain, combinations\n",
    "from sklearn.metrics import mean_squared_error\n",
    "from sklearn.model_selection import train_test_split\n",
    "from sklearn.linear_model import RidgeCV\n",
    "from sklearn.linear_model import Ridge\n",
    "from sklearn.linear_model import LassoCV\n",
    "from sklearn.linear_model import Lasso"
   ]
  },
  {
   "cell_type": "markdown",
   "metadata": {},
   "source": [
    "### Question 1"
   ]
  },
  {
   "cell_type": "markdown",
   "metadata": {},
   "source": [
    "#### E"
   ]
  },
  {
   "cell_type": "code",
   "execution_count": 2,
   "metadata": {},
   "outputs": [],
   "source": [
    "simple_reg = pd.read_csv('SimpleReg.csv')"
   ]
  },
  {
   "cell_type": "code",
   "execution_count": 4,
   "metadata": {},
   "outputs": [
    {
     "data": {
      "text/html": [
       "<div>\n",
       "<style scoped>\n",
       "    .dataframe tbody tr th:only-of-type {\n",
       "        vertical-align: middle;\n",
       "    }\n",
       "\n",
       "    .dataframe tbody tr th {\n",
       "        vertical-align: top;\n",
       "    }\n",
       "\n",
       "    .dataframe thead th {\n",
       "        text-align: right;\n",
       "    }\n",
       "</style>\n",
       "<table border=\"1\" class=\"dataframe\">\n",
       "  <thead>\n",
       "    <tr style=\"text-align: right;\">\n",
       "      <th></th>\n",
       "      <th>x</th>\n",
       "      <th>y</th>\n",
       "    </tr>\n",
       "  </thead>\n",
       "  <tbody>\n",
       "    <tr>\n",
       "      <th>0</th>\n",
       "      <td>0.997399</td>\n",
       "      <td>0.002905</td>\n",
       "    </tr>\n",
       "    <tr>\n",
       "      <th>1</th>\n",
       "      <td>0.621641</td>\n",
       "      <td>0.346669</td>\n",
       "    </tr>\n",
       "    <tr>\n",
       "      <th>2</th>\n",
       "      <td>0.715032</td>\n",
       "      <td>0.127638</td>\n",
       "    </tr>\n",
       "    <tr>\n",
       "      <th>3</th>\n",
       "      <td>0.463848</td>\n",
       "      <td>0.683570</td>\n",
       "    </tr>\n",
       "    <tr>\n",
       "      <th>4</th>\n",
       "      <td>0.650216</td>\n",
       "      <td>0.288742</td>\n",
       "    </tr>\n",
       "  </tbody>\n",
       "</table>\n",
       "</div>"
      ],
      "text/plain": [
       "          x         y\n",
       "0  0.997399  0.002905\n",
       "1  0.621641  0.346669\n",
       "2  0.715032  0.127638\n",
       "3  0.463848  0.683570\n",
       "4  0.650216  0.288742"
      ]
     },
     "execution_count": 4,
     "metadata": {},
     "output_type": "execute_result"
    }
   ],
   "source": [
    "simple_reg.head()"
   ]
  },
  {
   "cell_type": "code",
   "execution_count": 10,
   "metadata": {},
   "outputs": [],
   "source": [
    "X = simple_reg['x'].values.reshape(-1, 1)\n",
    "y = simple_reg['y'].values.reshape(-1, 1)"
   ]
  },
  {
   "cell_type": "code",
   "execution_count": 11,
   "metadata": {},
   "outputs": [
    {
     "data": {
      "text/plain": [
       "LinearRegression(fit_intercept=False)"
      ]
     },
     "execution_count": 11,
     "metadata": {},
     "output_type": "execute_result"
    }
   ],
   "source": [
    "regr = linear_model.LinearRegression(fit_intercept=False)\n",
    "regr.fit(X, y)"
   ]
  },
  {
   "cell_type": "code",
   "execution_count": 12,
   "metadata": {},
   "outputs": [
    {
     "name": "stdout",
     "output_type": "stream",
     "text": [
      "Coefficients: \n",
      " [[-0.09245499]]\n"
     ]
    }
   ],
   "source": [
    "print('Coefficients: \\n', regr.coef_)"
   ]
  },
  {
   "cell_type": "code",
   "execution_count": 18,
   "metadata": {},
   "outputs": [],
   "source": [
    "coefficient = regr.coef_[0][0]"
   ]
  },
  {
   "cell_type": "code",
   "execution_count": 26,
   "metadata": {},
   "outputs": [],
   "source": [
    "Sxx = sum(simple_reg['x'] * simple_reg['x'])"
   ]
  },
  {
   "cell_type": "code",
   "execution_count": 34,
   "metadata": {},
   "outputs": [],
   "source": [
    "CV = sum((simple_reg['y'] - coefficient*(simple_reg['x']) / (1 - ((simple_reg['x']*simple_reg['x']) / Sxx)))**2) / len(simple_reg['x'])"
   ]
  },
  {
   "cell_type": "code",
   "execution_count": 36,
   "metadata": {},
   "outputs": [
    {
     "name": "stdout",
     "output_type": "stream",
     "text": [
      "CV = 0.7232993202119912\n"
     ]
    }
   ],
   "source": [
    "print('CV = ' + str(CV))"
   ]
  },
  {
   "cell_type": "code",
   "execution_count": 44,
   "metadata": {},
   "outputs": [],
   "source": [
    "cv_scipy = variation(simple_reg, axis=0)"
   ]
  },
  {
   "cell_type": "code",
   "execution_count": 45,
   "metadata": {},
   "outputs": [
    {
     "name": "stdout",
     "output_type": "stream",
     "text": [
      "CV Scipy = [-31.85344957   1.01721531]\n"
     ]
    }
   ],
   "source": [
    "print('CV Scipy = ' + str(cv_scipy))"
   ]
  },
  {
   "cell_type": "markdown",
   "metadata": {},
   "source": [
    "### Question 2"
   ]
  },
  {
   "cell_type": "markdown",
   "metadata": {},
   "source": [
    "#### A"
   ]
  },
  {
   "cell_type": "code",
   "execution_count": 46,
   "metadata": {},
   "outputs": [],
   "source": [
    "Train = pd.read_csv('HW4TrainData.csv')\n",
    "Test = pd.read_csv('HW4TestData.csv')\n",
    "Validation = pd.read_csv('HW4ValidationData.csv')"
   ]
  },
  {
   "cell_type": "code",
   "execution_count": 49,
   "metadata": {},
   "outputs": [
    {
     "data": {
      "text/plain": [
       "Index(['x1', 'x2', 'x3', 'x4', 'x5', 'x6', 'x7', 'x8', 'x9', 'x10', 'y'], dtype='object')"
      ]
     },
     "execution_count": 49,
     "metadata": {},
     "output_type": "execute_result"
    }
   ],
   "source": [
    "Train.columns"
   ]
  },
  {
   "cell_type": "code",
   "execution_count": 99,
   "metadata": {},
   "outputs": [],
   "source": [
    "y_Train = Train['y']\n",
    "x_Train = Train.drop(columns=['y'])"
   ]
  },
  {
   "cell_type": "code",
   "execution_count": 100,
   "metadata": {},
   "outputs": [],
   "source": [
    "def powerset(iterable):\n",
    "    s = list(iterable)\n",
    "    return chain.from_iterable(combinations(s, r) for r in range(1,len(s)+1))"
   ]
  },
  {
   "cell_type": "code",
   "execution_count": 101,
   "metadata": {
    "scrolled": false
   },
   "outputs": [],
   "source": [
    "complete_variable_list = list(powerset(x_Train))"
   ]
  },
  {
   "cell_type": "code",
   "execution_count": 102,
   "metadata": {},
   "outputs": [],
   "source": [
    "i = 0\n",
    "best_variable_list = []\n",
    "regr_q2 = linear_model.LinearRegression()\n",
    "best_mse = 100000\n",
    "\n",
    "for x in complete_variable_list:\n",
    "    used_variable_list = []\n",
    "    for variables in complete_variable_list[i]:\n",
    "        used_variable_list.append(variables)\n",
    "    regr_q2.fit(x_Train[used_variable_list],y_Train)\n",
    "    q2_pred = regr_q2.predict(Validation[used_variable_list])\n",
    "    q2_true = Validation['y']\n",
    "    mse_value = mean_squared_error(q2_true,q2_pred)\n",
    "    if(mse_value < best_mse):\n",
    "        best_mse = mse_value\n",
    "        best_variable_list = used_variable_list\n",
    "    i = i + 1"
   ]
  },
  {
   "cell_type": "code",
   "execution_count": 103,
   "metadata": {},
   "outputs": [
    {
     "name": "stdout",
     "output_type": "stream",
     "text": [
      "best combination of variables: ['x6', 'x8', 'x9']\n",
      "best MSE: 0.11224169059923915\n"
     ]
    }
   ],
   "source": [
    "print('best combination of variables: ' + str(best_variable_list))\n",
    "print('best MSE: ' + str(best_mse))"
   ]
  },
  {
   "cell_type": "markdown",
   "metadata": {},
   "source": [
    "#### E"
   ]
  },
  {
   "cell_type": "code",
   "execution_count": 104,
   "metadata": {},
   "outputs": [],
   "source": [
    "y_Values = Test['y']"
   ]
  },
  {
   "cell_type": "code",
   "execution_count": 108,
   "metadata": {},
   "outputs": [],
   "source": [
    "ModelA = Test[['x6','x8','x9']]\n",
    "ModelB = Test[['x5','x7','x9']]\n",
    "ModelC = Test[['x1','x5','x6','x7','x9','x10']]\n",
    "ModelD = Test[['x5','x6','x7','x10']]"
   ]
  },
  {
   "cell_type": "code",
   "execution_count": 112,
   "metadata": {},
   "outputs": [
    {
     "name": "stdout",
     "output_type": "stream",
     "text": [
      "MSE Model A: 0.1407035309388078\n",
      "MSE Model B: 0.14112115653565416\n",
      "MSE Model C: 0.1441947011671233\n",
      "MSE Model D: 0.14433807231950413\n"
     ]
    }
   ],
   "source": [
    "regr_q2e = linear_model.LinearRegression()\n",
    "\n",
    "regr_q2e.fit(x_Train[['x6','x8','x9']],y_Train)\n",
    "q2e_pred = regr_q2e.predict(ModelA)\n",
    "print('MSE Model A: ' + str(mean_squared_error(y_Values,q2e_pred)))\n",
    "\n",
    "regr_q2e.fit(x_Train[['x5','x7','x9']],y_Train)\n",
    "q2e_pred = regr_q2e.predict(ModelB)\n",
    "print('MSE Model B: ' + str(mean_squared_error(y_Values,q2e_pred)))\n",
    "\n",
    "regr_q2e.fit(x_Train[['x1','x5','x6','x7','x9','x10']],y_Train)\n",
    "q2e_pred = regr_q2e.predict(ModelC)\n",
    "print('MSE Model C: ' + str(mean_squared_error(y_Values,q2e_pred)))\n",
    "\n",
    "regr_q2e.fit(x_Train[['x5','x6','x7','x10']],y_Train)\n",
    "q2e_pred = regr_q2e.predict(ModelD)\n",
    "print('MSE Model D: ' + str(mean_squared_error(y_Values,q2e_pred)))\n"
   ]
  },
  {
   "cell_type": "markdown",
   "metadata": {},
   "source": [
    "### Question 3"
   ]
  },
  {
   "cell_type": "code",
   "execution_count": 114,
   "metadata": {},
   "outputs": [],
   "source": [
    "partial_auto = pd.read_csv('PartialAuto.csv')"
   ]
  },
  {
   "cell_type": "code",
   "execution_count": 115,
   "metadata": {},
   "outputs": [
    {
     "data": {
      "text/html": [
       "<div>\n",
       "<style scoped>\n",
       "    .dataframe tbody tr th:only-of-type {\n",
       "        vertical-align: middle;\n",
       "    }\n",
       "\n",
       "    .dataframe tbody tr th {\n",
       "        vertical-align: top;\n",
       "    }\n",
       "\n",
       "    .dataframe thead th {\n",
       "        text-align: right;\n",
       "    }\n",
       "</style>\n",
       "<table border=\"1\" class=\"dataframe\">\n",
       "  <thead>\n",
       "    <tr style=\"text-align: right;\">\n",
       "      <th></th>\n",
       "      <th>mpg</th>\n",
       "      <th>cylinders</th>\n",
       "      <th>displacement</th>\n",
       "      <th>horsepower</th>\n",
       "      <th>weight</th>\n",
       "      <th>acceleration</th>\n",
       "    </tr>\n",
       "  </thead>\n",
       "  <tbody>\n",
       "    <tr>\n",
       "      <th>0</th>\n",
       "      <td>22.4</td>\n",
       "      <td>6</td>\n",
       "      <td>231.0</td>\n",
       "      <td>110</td>\n",
       "      <td>3415</td>\n",
       "      <td>15.8</td>\n",
       "    </tr>\n",
       "    <tr>\n",
       "      <th>1</th>\n",
       "      <td>29.0</td>\n",
       "      <td>4</td>\n",
       "      <td>135.0</td>\n",
       "      <td>84</td>\n",
       "      <td>2525</td>\n",
       "      <td>16.0</td>\n",
       "    </tr>\n",
       "    <tr>\n",
       "      <th>2</th>\n",
       "      <td>19.0</td>\n",
       "      <td>4</td>\n",
       "      <td>122.0</td>\n",
       "      <td>85</td>\n",
       "      <td>2310</td>\n",
       "      <td>18.5</td>\n",
       "    </tr>\n",
       "    <tr>\n",
       "      <th>3</th>\n",
       "      <td>44.3</td>\n",
       "      <td>4</td>\n",
       "      <td>90.0</td>\n",
       "      <td>48</td>\n",
       "      <td>2085</td>\n",
       "      <td>21.7</td>\n",
       "    </tr>\n",
       "    <tr>\n",
       "      <th>4</th>\n",
       "      <td>19.4</td>\n",
       "      <td>8</td>\n",
       "      <td>318.0</td>\n",
       "      <td>140</td>\n",
       "      <td>3735</td>\n",
       "      <td>13.2</td>\n",
       "    </tr>\n",
       "    <tr>\n",
       "      <th>...</th>\n",
       "      <td>...</td>\n",
       "      <td>...</td>\n",
       "      <td>...</td>\n",
       "      <td>...</td>\n",
       "      <td>...</td>\n",
       "      <td>...</td>\n",
       "    </tr>\n",
       "    <tr>\n",
       "      <th>387</th>\n",
       "      <td>21.5</td>\n",
       "      <td>4</td>\n",
       "      <td>121.0</td>\n",
       "      <td>110</td>\n",
       "      <td>2600</td>\n",
       "      <td>12.8</td>\n",
       "    </tr>\n",
       "    <tr>\n",
       "      <th>388</th>\n",
       "      <td>14.0</td>\n",
       "      <td>8</td>\n",
       "      <td>340.0</td>\n",
       "      <td>160</td>\n",
       "      <td>3609</td>\n",
       "      <td>8.0</td>\n",
       "    </tr>\n",
       "    <tr>\n",
       "      <th>389</th>\n",
       "      <td>29.8</td>\n",
       "      <td>4</td>\n",
       "      <td>134.0</td>\n",
       "      <td>90</td>\n",
       "      <td>2711</td>\n",
       "      <td>15.5</td>\n",
       "    </tr>\n",
       "    <tr>\n",
       "      <th>390</th>\n",
       "      <td>20.0</td>\n",
       "      <td>6</td>\n",
       "      <td>225.0</td>\n",
       "      <td>100</td>\n",
       "      <td>3651</td>\n",
       "      <td>17.7</td>\n",
       "    </tr>\n",
       "    <tr>\n",
       "      <th>391</th>\n",
       "      <td>26.0</td>\n",
       "      <td>4</td>\n",
       "      <td>91.0</td>\n",
       "      <td>70</td>\n",
       "      <td>1955</td>\n",
       "      <td>20.5</td>\n",
       "    </tr>\n",
       "  </tbody>\n",
       "</table>\n",
       "<p>392 rows × 6 columns</p>\n",
       "</div>"
      ],
      "text/plain": [
       "      mpg  cylinders  displacement  horsepower  weight  acceleration\n",
       "0    22.4          6         231.0         110    3415          15.8\n",
       "1    29.0          4         135.0          84    2525          16.0\n",
       "2    19.0          4         122.0          85    2310          18.5\n",
       "3    44.3          4          90.0          48    2085          21.7\n",
       "4    19.4          8         318.0         140    3735          13.2\n",
       "..    ...        ...           ...         ...     ...           ...\n",
       "387  21.5          4         121.0         110    2600          12.8\n",
       "388  14.0          8         340.0         160    3609           8.0\n",
       "389  29.8          4         134.0          90    2711          15.5\n",
       "390  20.0          6         225.0         100    3651          17.7\n",
       "391  26.0          4          91.0          70    1955          20.5\n",
       "\n",
       "[392 rows x 6 columns]"
      ]
     },
     "execution_count": 115,
     "metadata": {},
     "output_type": "execute_result"
    }
   ],
   "source": [
    "partial_auto"
   ]
  },
  {
   "cell_type": "code",
   "execution_count": 117,
   "metadata": {},
   "outputs": [],
   "source": [
    "auto_y = partial_auto['mpg']\n",
    "auto_X = partial_auto.drop(columns=['mpg'])"
   ]
  },
  {
   "cell_type": "code",
   "execution_count": 118,
   "metadata": {},
   "outputs": [],
   "source": [
    "auto_X_train, auto_X_test, auto_y_train, auto_y_test = train_test_split(auto_X, auto_y, test_size=92, random_state=1)"
   ]
  },
  {
   "cell_type": "code",
   "execution_count": 121,
   "metadata": {},
   "outputs": [
    {
     "name": "stdout",
     "output_type": "stream",
     "text": [
      "MSE : 18.436486007078884\n"
     ]
    }
   ],
   "source": [
    "auto_regr = linear_model.LinearRegression()\n",
    "\n",
    "auto_regr.fit(auto_X_train,auto_y_train)\n",
    "auto_pred = auto_regr.predict(auto_X_test)\n",
    "print('MSE : ' + str(mean_squared_error(auto_y_test,auto_pred)))"
   ]
  },
  {
   "cell_type": "code",
   "execution_count": 124,
   "metadata": {},
   "outputs": [
    {
     "name": "stdout",
     "output_type": "stream",
     "text": [
      "24175.940791691282\n"
     ]
    }
   ],
   "source": [
    "n_iterations = 1000\n",
    "lambda_list = np.logspace(-3, 5, n_iterations)\n",
    "alphas =  lambda_list\n",
    "ridge_cv = RidgeCV(alphas=alphas, cv=10)\n",
    "ridge_cv.fit(auto_X_train, auto_y_train)\n",
    "print(ridge_cv.alpha_)"
   ]
  },
  {
   "cell_type": "code",
   "execution_count": 140,
   "metadata": {},
   "outputs": [],
   "source": [
    "Ridge_updated = Ridge(alpha=24175.940791691282)"
   ]
  },
  {
   "cell_type": "code",
   "execution_count": 141,
   "metadata": {},
   "outputs": [
    {
     "name": "stdout",
     "output_type": "stream",
     "text": [
      "MSE : 18.14091149997406\n"
     ]
    }
   ],
   "source": [
    "Ridge_updated.fit(auto_X_train, auto_y_train)\n",
    "auto_pred = Ridge_updated.predict(auto_X_test)\n",
    "print('MSE : ' + str(mean_squared_error(auto_y_test,auto_pred)))"
   ]
  },
  {
   "cell_type": "code",
   "execution_count": 143,
   "metadata": {},
   "outputs": [
    {
     "name": "stdout",
     "output_type": "stream",
     "text": [
      "0.5791122647641759\n"
     ]
    }
   ],
   "source": [
    "lasso_cv = LassoCV(alphas=alphas, cv=10)\n",
    "lasso_cv.fit(auto_X_train, auto_y_train)\n",
    "print(lasso_cv.alpha_)"
   ]
  },
  {
   "cell_type": "code",
   "execution_count": 144,
   "metadata": {},
   "outputs": [],
   "source": [
    "Lasso_updated = Lasso(alpha=0.5791122647641759)"
   ]
  },
  {
   "cell_type": "code",
   "execution_count": 145,
   "metadata": {},
   "outputs": [
    {
     "name": "stdout",
     "output_type": "stream",
     "text": [
      "MSE : 18.23546997235851\n"
     ]
    }
   ],
   "source": [
    "Lasso_updated.fit(auto_X_train, auto_y_train)\n",
    "auto_pred = Lasso_updated.predict(auto_X_test)\n",
    "print('MSE : ' + str(mean_squared_error(auto_y_test,auto_pred)))"
   ]
  },
  {
   "cell_type": "code",
   "execution_count": null,
   "metadata": {},
   "outputs": [],
   "source": []
  }
 ],
 "metadata": {
  "kernelspec": {
   "display_name": "Python 3",
   "language": "python",
   "name": "python3"
  },
  "language_info": {
   "codemirror_mode": {
    "name": "ipython",
    "version": 3
   },
   "file_extension": ".py",
   "mimetype": "text/x-python",
   "name": "python",
   "nbconvert_exporter": "python",
   "pygments_lexer": "ipython3",
   "version": "3.8.3"
  }
 },
 "nbformat": 4,
 "nbformat_minor": 4
}
