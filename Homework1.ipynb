{
 "cells": [
  {
   "cell_type": "code",
   "execution_count": 1,
   "metadata": {},
   "outputs": [],
   "source": [
    "import pandas as pd\n",
    "from sklearn import linear_model\n",
    "from sklearn.model_selection import train_test_split\n",
    "import statsmodels.api as sm\n",
    "from statsmodels.sandbox.regression.predstd import wls_prediction_std\n",
    "import numpy as np\n",
    "from sklearn.metrics import mean_squared_error"
   ]
  },
  {
   "cell_type": "markdown",
   "metadata": {},
   "source": [
    "## Question 1"
   ]
  },
  {
   "cell_type": "code",
   "execution_count": 2,
   "metadata": {},
   "outputs": [],
   "source": [
    "data = pd.DataFrame(\n",
    "{'x1':[89.09,84.24,98.77,95.44,90.98,97.39,89.27,88.51,97.06,84.45],\n",
    " 'x2':[78.48,70.56,93.52,86.72,79.2,91.36,80,76.96,92.56,66.4],\n",
    " 'y':[113.27,109.77,130.08,120.45,115.09,125.37,116.22,112.08,127.85,107.61]})"
   ]
  },
  {
   "cell_type": "code",
   "execution_count": 3,
   "metadata": {},
   "outputs": [
    {
     "data": {
      "text/html": [
       "<div>\n",
       "<style scoped>\n",
       "    .dataframe tbody tr th:only-of-type {\n",
       "        vertical-align: middle;\n",
       "    }\n",
       "\n",
       "    .dataframe tbody tr th {\n",
       "        vertical-align: top;\n",
       "    }\n",
       "\n",
       "    .dataframe thead th {\n",
       "        text-align: right;\n",
       "    }\n",
       "</style>\n",
       "<table border=\"1\" class=\"dataframe\">\n",
       "  <thead>\n",
       "    <tr style=\"text-align: right;\">\n",
       "      <th></th>\n",
       "      <th>x1</th>\n",
       "      <th>x2</th>\n",
       "      <th>y</th>\n",
       "    </tr>\n",
       "  </thead>\n",
       "  <tbody>\n",
       "    <tr>\n",
       "      <th>0</th>\n",
       "      <td>89.09</td>\n",
       "      <td>78.48</td>\n",
       "      <td>113.27</td>\n",
       "    </tr>\n",
       "    <tr>\n",
       "      <th>1</th>\n",
       "      <td>84.24</td>\n",
       "      <td>70.56</td>\n",
       "      <td>109.77</td>\n",
       "    </tr>\n",
       "    <tr>\n",
       "      <th>2</th>\n",
       "      <td>98.77</td>\n",
       "      <td>93.52</td>\n",
       "      <td>130.08</td>\n",
       "    </tr>\n",
       "    <tr>\n",
       "      <th>3</th>\n",
       "      <td>95.44</td>\n",
       "      <td>86.72</td>\n",
       "      <td>120.45</td>\n",
       "    </tr>\n",
       "    <tr>\n",
       "      <th>4</th>\n",
       "      <td>90.98</td>\n",
       "      <td>79.20</td>\n",
       "      <td>115.09</td>\n",
       "    </tr>\n",
       "    <tr>\n",
       "      <th>5</th>\n",
       "      <td>97.39</td>\n",
       "      <td>91.36</td>\n",
       "      <td>125.37</td>\n",
       "    </tr>\n",
       "    <tr>\n",
       "      <th>6</th>\n",
       "      <td>89.27</td>\n",
       "      <td>80.00</td>\n",
       "      <td>116.22</td>\n",
       "    </tr>\n",
       "    <tr>\n",
       "      <th>7</th>\n",
       "      <td>88.51</td>\n",
       "      <td>76.96</td>\n",
       "      <td>112.08</td>\n",
       "    </tr>\n",
       "    <tr>\n",
       "      <th>8</th>\n",
       "      <td>97.06</td>\n",
       "      <td>92.56</td>\n",
       "      <td>127.85</td>\n",
       "    </tr>\n",
       "    <tr>\n",
       "      <th>9</th>\n",
       "      <td>84.45</td>\n",
       "      <td>66.40</td>\n",
       "      <td>107.61</td>\n",
       "    </tr>\n",
       "  </tbody>\n",
       "</table>\n",
       "</div>"
      ],
      "text/plain": [
       "      x1     x2       y\n",
       "0  89.09  78.48  113.27\n",
       "1  84.24  70.56  109.77\n",
       "2  98.77  93.52  130.08\n",
       "3  95.44  86.72  120.45\n",
       "4  90.98  79.20  115.09\n",
       "5  97.39  91.36  125.37\n",
       "6  89.27  80.00  116.22\n",
       "7  88.51  76.96  112.08\n",
       "8  97.06  92.56  127.85\n",
       "9  84.45  66.40  107.61"
      ]
     },
     "execution_count": 3,
     "metadata": {},
     "output_type": "execute_result"
    }
   ],
   "source": [
    "data"
   ]
  },
  {
   "cell_type": "markdown",
   "metadata": {},
   "source": [
    "### Part F"
   ]
  },
  {
   "cell_type": "code",
   "execution_count": 4,
   "metadata": {},
   "outputs": [],
   "source": [
    "def calculateB1B2(dataset):\n",
    "    sumyx1 = 0\n",
    "    sumx2square = 0\n",
    "    sumyx2 = 0\n",
    "    sumx1x2 = 0\n",
    "    sumx1square = 0\n",
    "    for index, row in dataset.iterrows():\n",
    "        sumyx1 = sumyx1 + (row['y'] * row['x1'])\n",
    "        sumx2square = sumx2square + (row['x2'] * row['x2'])\n",
    "        sumyx2 = sumyx2 + (row['y'] * row['x2'])\n",
    "        sumx1x2 = sumx1x2 + (row['x1'] * row['x2'])\n",
    "        sumx1square = sumx1square + (row['x1'] * row['x1'])\n",
    "    b1 = ((sumyx1 * sumx2square) - (sumyx2 * sumx1x2))/((sumx1square * sumx2square) - (sumx1x2 * sumx1x2))\n",
    "    \n",
    "    b2 = ((sumyx2 * sumx1square) - (sumyx1 * sumx1x2))/ ((sumx1square * sumx2square) - (sumx1x2 * sumx1x2))\n",
    "    \n",
    "    print('b1: ' + str(b1))\n",
    "    print('b2: ' + str(b2))"
   ]
  },
  {
   "cell_type": "code",
   "execution_count": 5,
   "metadata": {},
   "outputs": [
    {
     "name": "stdout",
     "output_type": "stream",
     "text": [
      "b1: 1.093501198438671\n",
      "b2: 0.2168336356292473\n"
     ]
    }
   ],
   "source": [
    "calculateB1B2(data)"
   ]
  },
  {
   "cell_type": "markdown",
   "metadata": {},
   "source": [
    "### Part G"
   ]
  },
  {
   "cell_type": "code",
   "execution_count": 6,
   "metadata": {},
   "outputs": [],
   "source": [
    "X = data[['x1','x2']]\n",
    "Y = data['y']"
   ]
  },
  {
   "cell_type": "code",
   "execution_count": 7,
   "metadata": {},
   "outputs": [
    {
     "data": {
      "text/plain": [
       "108154.6169"
      ]
     },
     "execution_count": 7,
     "metadata": {},
     "output_type": "execute_result"
    }
   ],
   "source": [
    "(data['x1'] * data['y']).sum()"
   ]
  },
  {
   "cell_type": "code",
   "execution_count": 8,
   "metadata": {},
   "outputs": [
    {
     "data": {
      "text/plain": [
       "LinearRegression(fit_intercept=False)"
      ]
     },
     "execution_count": 8,
     "metadata": {},
     "output_type": "execute_result"
    }
   ],
   "source": [
    "regr = linear_model.LinearRegression(fit_intercept=False)\n",
    "regr.fit(X, Y)"
   ]
  },
  {
   "cell_type": "code",
   "execution_count": 9,
   "metadata": {},
   "outputs": [
    {
     "name": "stdout",
     "output_type": "stream",
     "text": [
      "Intercept: \n",
      " 0.0\n",
      "Coefficients: \n",
      " [1.0935012  0.21683364]\n"
     ]
    }
   ],
   "source": [
    "print('Intercept: \\n', regr.intercept_)\n",
    "print('Coefficients: \\n', regr.coef_)"
   ]
  },
  {
   "cell_type": "markdown",
   "metadata": {},
   "source": [
    "## Question 3"
   ]
  },
  {
   "cell_type": "code",
   "execution_count": 10,
   "metadata": {},
   "outputs": [],
   "source": [
    "physical_law = pd.read_csv('PhysicalLaw.csv')"
   ]
  },
  {
   "cell_type": "code",
   "execution_count": 11,
   "metadata": {},
   "outputs": [
    {
     "data": {
      "text/html": [
       "<div>\n",
       "<style scoped>\n",
       "    .dataframe tbody tr th:only-of-type {\n",
       "        vertical-align: middle;\n",
       "    }\n",
       "\n",
       "    .dataframe tbody tr th {\n",
       "        vertical-align: top;\n",
       "    }\n",
       "\n",
       "    .dataframe thead th {\n",
       "        text-align: right;\n",
       "    }\n",
       "</style>\n",
       "<table border=\"1\" class=\"dataframe\">\n",
       "  <thead>\n",
       "    <tr style=\"text-align: right;\">\n",
       "      <th></th>\n",
       "      <th>p1</th>\n",
       "      <th>p2</th>\n",
       "      <th>d</th>\n",
       "      <th>F</th>\n",
       "    </tr>\n",
       "  </thead>\n",
       "  <tbody>\n",
       "    <tr>\n",
       "      <th>0</th>\n",
       "      <td>4345.7</td>\n",
       "      <td>1510000.0</td>\n",
       "      <td>2.0477</td>\n",
       "      <td>0.073496</td>\n",
       "    </tr>\n",
       "    <tr>\n",
       "      <th>1</th>\n",
       "      <td>443000.0</td>\n",
       "      <td>760000.0</td>\n",
       "      <td>13.5380</td>\n",
       "      <td>0.008592</td>\n",
       "    </tr>\n",
       "    <tr>\n",
       "      <th>2</th>\n",
       "      <td>503000.0</td>\n",
       "      <td>1060000.0</td>\n",
       "      <td>21.7020</td>\n",
       "      <td>0.001035</td>\n",
       "    </tr>\n",
       "    <tr>\n",
       "      <th>3</th>\n",
       "      <td>505000.0</td>\n",
       "      <td>198000.0</td>\n",
       "      <td>1.8970</td>\n",
       "      <td>1.320800</td>\n",
       "    </tr>\n",
       "    <tr>\n",
       "      <th>4</th>\n",
       "      <td>2030000.0</td>\n",
       "      <td>259000.0</td>\n",
       "      <td>4.5553</td>\n",
       "      <td>0.713990</td>\n",
       "    </tr>\n",
       "    <tr>\n",
       "      <th>...</th>\n",
       "      <td>...</td>\n",
       "      <td>...</td>\n",
       "      <td>...</td>\n",
       "      <td>...</td>\n",
       "    </tr>\n",
       "    <tr>\n",
       "      <th>235</th>\n",
       "      <td>424000.0</td>\n",
       "      <td>1450000.0</td>\n",
       "      <td>12.1770</td>\n",
       "      <td>0.025195</td>\n",
       "    </tr>\n",
       "    <tr>\n",
       "      <th>236</th>\n",
       "      <td>1230000.0</td>\n",
       "      <td>2390000.0</td>\n",
       "      <td>7.2216</td>\n",
       "      <td>0.922420</td>\n",
       "    </tr>\n",
       "    <tr>\n",
       "      <th>237</th>\n",
       "      <td>678000.0</td>\n",
       "      <td>1680000.0</td>\n",
       "      <td>10.1920</td>\n",
       "      <td>0.098119</td>\n",
       "    </tr>\n",
       "    <tr>\n",
       "      <th>238</th>\n",
       "      <td>917000.0</td>\n",
       "      <td>1270000.0</td>\n",
       "      <td>5.7909</td>\n",
       "      <td>0.756070</td>\n",
       "    </tr>\n",
       "    <tr>\n",
       "      <th>239</th>\n",
       "      <td>481000.0</td>\n",
       "      <td>1890000.0</td>\n",
       "      <td>9.5052</td>\n",
       "      <td>0.104400</td>\n",
       "    </tr>\n",
       "  </tbody>\n",
       "</table>\n",
       "<p>240 rows × 4 columns</p>\n",
       "</div>"
      ],
      "text/plain": [
       "            p1         p2        d         F\n",
       "0       4345.7  1510000.0   2.0477  0.073496\n",
       "1     443000.0   760000.0  13.5380  0.008592\n",
       "2     503000.0  1060000.0  21.7020  0.001035\n",
       "3     505000.0   198000.0   1.8970  1.320800\n",
       "4    2030000.0   259000.0   4.5553  0.713990\n",
       "..         ...        ...      ...       ...\n",
       "235   424000.0  1450000.0  12.1770  0.025195\n",
       "236  1230000.0  2390000.0   7.2216  0.922420\n",
       "237   678000.0  1680000.0  10.1920  0.098119\n",
       "238   917000.0  1270000.0   5.7909  0.756070\n",
       "239   481000.0  1890000.0   9.5052  0.104400\n",
       "\n",
       "[240 rows x 4 columns]"
      ]
     },
     "execution_count": 11,
     "metadata": {},
     "output_type": "execute_result"
    }
   ],
   "source": [
    "physical_law"
   ]
  },
  {
   "cell_type": "code",
   "execution_count": 12,
   "metadata": {},
   "outputs": [],
   "source": [
    "physical_X = physical_law[['p1','p2','d']]\n",
    "physical_y = physical_law['F']"
   ]
  },
  {
   "cell_type": "code",
   "execution_count": 13,
   "metadata": {},
   "outputs": [],
   "source": [
    "physical_X_train, physical_X_test, physical_y_train, physical_y_test = train_test_split(physical_X, physical_y, test_size=40, random_state=1)"
   ]
  },
  {
   "cell_type": "code",
   "execution_count": 14,
   "metadata": {},
   "outputs": [],
   "source": [
    "physical_regr = linear_model.LinearRegression()\n",
    "physical_regression = physical_regr.fit(physical_X_train,physical_y_train)"
   ]
  },
  {
   "cell_type": "code",
   "execution_count": 15,
   "metadata": {},
   "outputs": [],
   "source": [
    "physical_model = sm.OLS(physical_y_train,physical_X_train)"
   ]
  },
  {
   "cell_type": "code",
   "execution_count": 16,
   "metadata": {},
   "outputs": [],
   "source": [
    "result = physical_model.fit()"
   ]
  },
  {
   "cell_type": "code",
   "execution_count": 17,
   "metadata": {},
   "outputs": [
    {
     "name": "stdout",
     "output_type": "stream",
     "text": [
      "                                 OLS Regression Results                                \n",
      "=======================================================================================\n",
      "Dep. Variable:                      F   R-squared (uncentered):                   0.153\n",
      "Model:                            OLS   Adj. R-squared (uncentered):              0.140\n",
      "Method:                 Least Squares   F-statistic:                              11.82\n",
      "Date:                Wed, 27 Jan 2021   Prob (F-statistic):                    3.77e-07\n",
      "Time:                        18:03:43   Log-Likelihood:                         -1107.7\n",
      "No. Observations:                 200   AIC:                                      2221.\n",
      "Df Residuals:                     197   BIC:                                      2231.\n",
      "Df Model:                           3                                                  \n",
      "Covariance Type:            nonrobust                                                  \n",
      "==============================================================================\n",
      "                 coef    std err          t      P>|t|      [0.025      0.975]\n",
      "------------------------------------------------------------------------------\n",
      "p1          2.639e-05   6.98e-06      3.780      0.000    1.26e-05    4.02e-05\n",
      "p2          1.702e-05   6.24e-06      2.731      0.007    4.73e-06    2.93e-05\n",
      "d             -2.4576      0.591     -4.158      0.000      -3.623      -1.292\n",
      "==============================================================================\n",
      "Omnibus:                      236.924   Durbin-Watson:                   2.026\n",
      "Prob(Omnibus):                  0.000   Jarque-Bera (JB):             7469.747\n",
      "Skew:                           5.019   Prob(JB):                         0.00\n",
      "Kurtosis:                      31.206   Cond. No.                     1.66e+05\n",
      "==============================================================================\n",
      "\n",
      "Warnings:\n",
      "[1] Standard Errors assume that the covariance matrix of the errors is correctly specified.\n",
      "[2] The condition number is large, 1.66e+05. This might indicate that there are\n",
      "strong multicollinearity or other numerical problems.\n"
     ]
    }
   ],
   "source": [
    "print(result.summary())"
   ]
  },
  {
   "cell_type": "code",
   "execution_count": 18,
   "metadata": {},
   "outputs": [],
   "source": [
    "physical_y_pred = physical_regr.predict(physical_X_test)"
   ]
  },
  {
   "cell_type": "code",
   "execution_count": 19,
   "metadata": {},
   "outputs": [],
   "source": [
    "rms = np.sqrt(mean_squared_error(physical_y_test,physical_y_pred))"
   ]
  },
  {
   "cell_type": "code",
   "execution_count": 20,
   "metadata": {},
   "outputs": [
    {
     "name": "stdout",
     "output_type": "stream",
     "text": [
      "29.56770293145746\n"
     ]
    }
   ],
   "source": [
    "print(rms)"
   ]
  },
  {
   "cell_type": "markdown",
   "metadata": {},
   "source": [
    "## Question 4"
   ]
  },
  {
   "cell_type": "code",
   "execution_count": 21,
   "metadata": {},
   "outputs": [],
   "source": [
    "modelselection_data = pd.read_csv('ModelSelection.csv')"
   ]
  },
  {
   "cell_type": "code",
   "execution_count": 28,
   "metadata": {},
   "outputs": [],
   "source": [
    "modelselection_data['x2'] = modelselection_data['x']\n",
    "modelselection_data['x3'] = modelselection_data['x']"
   ]
  },
  {
   "cell_type": "code",
   "execution_count": 61,
   "metadata": {},
   "outputs": [
    {
     "data": {
      "text/html": [
       "<div>\n",
       "<style scoped>\n",
       "    .dataframe tbody tr th:only-of-type {\n",
       "        vertical-align: middle;\n",
       "    }\n",
       "\n",
       "    .dataframe tbody tr th {\n",
       "        vertical-align: top;\n",
       "    }\n",
       "\n",
       "    .dataframe thead th {\n",
       "        text-align: right;\n",
       "    }\n",
       "</style>\n",
       "<table border=\"1\" class=\"dataframe\">\n",
       "  <thead>\n",
       "    <tr style=\"text-align: right;\">\n",
       "      <th></th>\n",
       "      <th>x</th>\n",
       "      <th>y</th>\n",
       "      <th>x2</th>\n",
       "      <th>x3</th>\n",
       "    </tr>\n",
       "  </thead>\n",
       "  <tbody>\n",
       "    <tr>\n",
       "      <th>0</th>\n",
       "      <td>0.997399</td>\n",
       "      <td>0.002905</td>\n",
       "      <td>0.997399</td>\n",
       "      <td>0.997399</td>\n",
       "    </tr>\n",
       "    <tr>\n",
       "      <th>1</th>\n",
       "      <td>0.621641</td>\n",
       "      <td>0.346669</td>\n",
       "      <td>0.621641</td>\n",
       "      <td>0.621641</td>\n",
       "    </tr>\n",
       "    <tr>\n",
       "      <th>2</th>\n",
       "      <td>0.715032</td>\n",
       "      <td>0.127638</td>\n",
       "      <td>0.715032</td>\n",
       "      <td>0.715032</td>\n",
       "    </tr>\n",
       "    <tr>\n",
       "      <th>3</th>\n",
       "      <td>0.463848</td>\n",
       "      <td>0.683570</td>\n",
       "      <td>0.463848</td>\n",
       "      <td>0.463848</td>\n",
       "    </tr>\n",
       "    <tr>\n",
       "      <th>4</th>\n",
       "      <td>0.650216</td>\n",
       "      <td>0.288742</td>\n",
       "      <td>0.650216</td>\n",
       "      <td>0.650216</td>\n",
       "    </tr>\n",
       "  </tbody>\n",
       "</table>\n",
       "</div>"
      ],
      "text/plain": [
       "          x         y        x2        x3\n",
       "0  0.997399  0.002905  0.997399  0.997399\n",
       "1  0.621641  0.346669  0.621641  0.621641\n",
       "2  0.715032  0.127638  0.715032  0.715032\n",
       "3  0.463848  0.683570  0.463848  0.463848\n",
       "4  0.650216  0.288742  0.650216  0.650216"
      ]
     },
     "execution_count": 61,
     "metadata": {},
     "output_type": "execute_result"
    }
   ],
   "source": [
    "modelselection_data.head()"
   ]
  },
  {
   "cell_type": "code",
   "execution_count": 62,
   "metadata": {},
   "outputs": [],
   "source": [
    "bestMSE = 1\n",
    "best_model_coef = []\n",
    "best_model_nvalues = []"
   ]
  },
  {
   "cell_type": "code",
   "execution_count": 63,
   "metadata": {},
   "outputs": [],
   "source": [
    "for n1 in range(1,11):\n",
    "    for n2 in range(1,11):\n",
    "        for n3 in range(1,11):\n",
    "            #Copy\n",
    "            adjusted_modelselection_data = modelselection_data.copy()\n",
    "            \n",
    "            #Applying exponents\n",
    "            adjusted_modelselection_data['x'] = adjusted_modelselection_data['x']**n1\n",
    "            adjusted_modelselection_data['x2'] = adjusted_modelselection_data['x2']**n2\n",
    "            adjusted_modelselection_data['x3'] = adjusted_modelselection_data['x3']**n2\n",
    "            \n",
    "            #Separating into X and y\n",
    "            adjusted_model_X = adjusted_modelselection_data[['x','x2','x3']]\n",
    "            adjusted_model_y = adjusted_modelselection_data['y']\n",
    "            \n",
    "            #Splitting into training\n",
    "            model_X_train, model_X_test, model_y_train, model_y_test = train_test_split(adjusted_model_X, adjusted_model_y, test_size=500, random_state=1)\n",
    "\n",
    "            # Running Regression Model\n",
    "            modelselection_regr = linear_model.LinearRegression()\n",
    "            modelselection_regression = modelselection_regr.fit(model_X_train,model_y_train)\n",
    "            modelselection_ypred = modelselection_regression.predict(model_X_test)\n",
    "            MSE = mean_squared_error(model_y_test,modelselection_ypred)\n",
    "            \n",
    "            #Capturing best MSE, coefficients, and nvalues\n",
    "            if(MSE < bestMSE):\n",
    "                bestMSE = MSE\n",
    "                best_model_coef = modelselection_regression.coef_\n",
    "                best_model_nvalues = [n1,n2,n3]"
   ]
  },
  {
   "cell_type": "code",
   "execution_count": 64,
   "metadata": {},
   "outputs": [
    {
     "name": "stdout",
     "output_type": "stream",
     "text": [
      "Best MSE: 0.05227941576034468\n",
      "Best Coefficients: [ 6.90329000e-01 -7.88317803e+12  7.88317803e+12]\n",
      "Best n values: [9, 4, 1]\n"
     ]
    }
   ],
   "source": [
    "print('Best MSE: ' + str(bestMSE))\n",
    "print('Best Coefficients: ' + str(best_model_coef))\n",
    "print('Best n values: ' + str(best_model_nvalues))"
   ]
  },
  {
   "cell_type": "code",
   "execution_count": null,
   "metadata": {},
   "outputs": [],
   "source": []
  }
 ],
 "metadata": {
  "kernelspec": {
   "display_name": "Python 3",
   "language": "python",
   "name": "python3"
  },
  "language_info": {
   "codemirror_mode": {
    "name": "ipython",
    "version": 3
   },
   "file_extension": ".py",
   "mimetype": "text/x-python",
   "name": "python",
   "nbconvert_exporter": "python",
   "pygments_lexer": "ipython3",
   "version": "3.8.3"
  }
 },
 "nbformat": 4,
 "nbformat_minor": 4
}
